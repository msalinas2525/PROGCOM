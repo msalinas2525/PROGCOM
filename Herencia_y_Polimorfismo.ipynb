{
  "nbformat": 4,
  "nbformat_minor": 0,
  "metadata": {
    "colab": {
      "provenance": []
    },
    "kernelspec": {
      "name": "python3",
      "display_name": "Python 3"
    },
    "language_info": {
      "name": "python"
    }
  },
  "cells": [
    {
      "cell_type": "code",
      "execution_count": null,
      "metadata": {
        "id": "CC7kduNNtB9N"
      },
      "outputs": [],
      "source": [
        "# Clase base\n",
        "class Personaje:\n",
        "    def __init__(self, nombre, edad):\n",
        "        self.nombre = nombre\n",
        "        self.edad = edad\n",
        "\n",
        "    def presentarse(self):\n",
        "        raise NotImplementedError(\"Este método debe ser implementado por una clase hija\")\n",
        "\n",
        "# Clase Humano que hereda de Personaje\n",
        "class Humano(Personaje):\n",
        "    def __init__(self, nombre, edad, ocupacion):\n",
        "        super().__init__(nombre, edad)  # Llamamos al constructor de la clase base\n",
        "        self.ocupacion = ocupacion\n",
        "\n",
        "    def presentarse(self):\n",
        "        # Implementamos el método para la clase Humano\n",
        "        return f\"Hola, soy {self.nombre}, tengo {self.edad} años y soy {self.ocupacion}.\"\n",
        "\n",
        "# Clase Extraterrestre que hereda de Personaje\n",
        "class Extraterrestre(Personaje):\n",
        "    def __init__(self, nombre, edad, planeta_origen):\n",
        "        super().__init__(nombre, edad)  # Llamamos al constructor de la clase base\n",
        "        self.planeta_origen = planeta_origen\n",
        "\n",
        "    def presentarse(self):\n",
        "        # Implementamos el método para la clase Extraterrestre\n",
        "        return f\"Saludos, soy {self.nombre}, tengo {self.edad} años y vengo de {self.planeta_origen}.\"\n",
        "\n",
        "# Clase Robot que hereda de Personaje\n",
        "class Robot(Personaje):\n",
        "    def __init__(self, nombre, edad, modelo):\n",
        "        super().__init__(nombre, edad)  # Llamamos al constructor de la clase base\n",
        "        self.modelo = modelo\n",
        "\n",
        "    def presentarse(self):\n",
        "        # Implementamos el método para la clase Robot\n",
        "        return f\"Beep boop. Soy {self.nombre}, tengo {self.edad} ciclos de actividad y soy el modelo {self.modelo}.\"\n",
        "\n",
        "# Función que utiliza polimorfismo\n",
        "def mostrar_presentacion(personaje):\n",
        "    print(personaje.presentarse())\n",
        "\n",
        "# Creamos instancias de cada clase\n",
        "humano = Humano(\"Juan\", 30, \"Ingeniero\")\n",
        "extraterrestre = Extraterrestre(\"Zorba\", 120, \"Marte\")\n",
        "robot = Robot(\"R2-D2\", 15, \"Astromech\")\n",
        "\n",
        "# Usamos polimorfismo: todos los objetos pueden ser tratados como 'Personaje'\n",
        "personajes = [humano, extraterrestre, robot]\n",
        "\n",
        "for p in personajes:\n",
        "    mostrar_presentacion(p)\n"
      ]
    }
  ]
}