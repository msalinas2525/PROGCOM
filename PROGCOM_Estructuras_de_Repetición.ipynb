{
  "nbformat": 4,
  "nbformat_minor": 0,
  "metadata": {
    "colab": {
      "provenance": []
    },
    "kernelspec": {
      "name": "python3",
      "display_name": "Python 3"
    },
    "language_info": {
      "name": "python"
    }
  },
  "cells": [
    {
      "cell_type": "code",
      "execution_count": 1,
      "metadata": {
        "colab": {
          "base_uri": "https://localhost:8080/"
        },
        "id": "Q52aG98Z-4Ds",
        "outputId": "57d625f1-f1e3-4ca2-9529-64b36157d2b2"
      },
      "outputs": [
        {
          "output_type": "stream",
          "name": "stdout",
          "text": [
            "Ingrese el número 1: 1\n",
            "Ingrese el número 2: 2\n",
            "Ingrese el número 3: 3\n",
            "Ingrese el número 4: 4\n",
            "Ingrese el número 5: 5\n",
            "Ingrese el número 6: 6\n",
            "Ingrese el número 7: 7\n",
            "Ingrese el número 8: 8\n",
            "Ingrese el número 9: 9\n",
            "Ingrese el número 10: 10\n",
            "Cantidad de números pares: 5\n",
            "Cantidad de números impares: 5\n"
          ]
        }
      ],
      "source": [
        "# Inicializar contadores para pares e impares\n",
        "contador_pares = 0\n",
        "contador_impares = 0\n",
        "\n",
        "# Leer 10 números del usuario\n",
        "for i in range(10):\n",
        "    numero = int(input(f\"Ingrese el número {i + 1}: \"))\n",
        "\n",
        "    # Verificar si el número es par o impar y actualizar los contadores\n",
        "    if numero % 2 == 0:\n",
        "        contador_pares += 1\n",
        "    else:\n",
        "        contador_impares += 1\n",
        "\n",
        "# Imprimir los resultados\n",
        "print(f\"Cantidad de números pares: {contador_pares}\")\n",
        "print(f\"Cantidad de números impares: {contador_impares}\")\n"
      ]
    },
    {
      "cell_type": "code",
      "source": [
        "# Inicializar contadores para pares e impares y listas para almacenar los números\n",
        "contador_pares = 0\n",
        "contador_impares = 0\n",
        "numeros_pares = []\n",
        "numeros_impares = []\n",
        "\n",
        "# Leer 10 números del usuario\n",
        "for i in range(10):\n",
        "    numero = int(input(f\"Ingrese el número {i + 1}: \"))\n",
        "\n",
        "    # Verificar si el número es par o impar y actualizar los contadores y listas\n",
        "    if numero % 2 == 0:\n",
        "        contador_pares += 1\n",
        "        numeros_pares.append(numero)\n",
        "    else:\n",
        "        contador_impares += 1\n",
        "        numeros_impares.append(numero)\n",
        "\n",
        "# Imprimir los resultados\n",
        "print(f\"Cantidad de números pares: {contador_pares}\")\n",
        "print(f\"Números pares: {numeros_pares}\")\n",
        "print(f\"Cantidad de números impares: {contador_impares}\")\n",
        "print(f\"Números impares: {numeros_impares}\")\n"
      ],
      "metadata": {
        "colab": {
          "base_uri": "https://localhost:8080/"
        },
        "id": "ttNZLucPCMP4",
        "outputId": "fb2a3710-3720-45c9-9b14-65bc1be34444"
      },
      "execution_count": 3,
      "outputs": [
        {
          "output_type": "stream",
          "name": "stdout",
          "text": [
            "Ingrese el número 1: 1\n",
            "Ingrese el número 2: 2\n",
            "Ingrese el número 3: 3\n",
            "Ingrese el número 4: 4\n",
            "Ingrese el número 5: 5\n",
            "Ingrese el número 6: 6\n",
            "Ingrese el número 7: 7\n",
            "Ingrese el número 8: 8\n",
            "Ingrese el número 9: 9\n",
            "Ingrese el número 10: 10\n",
            "Cantidad de números pares: 5\n",
            "Números pares: [2, 4, 6, 8, 10]\n",
            "Cantidad de números impares: 5\n",
            "Números impares: [1, 3, 5, 7, 9]\n"
          ]
        }
      ]
    },
    {
      "cell_type": "code",
      "source": [
        "# Inicializar contador para pares y lista para almacenar los números pares\n",
        "contador_pares = 0\n",
        "numeros_pares = []\n",
        "\n",
        "# Leer números del usuario hasta encontrar el primer impar\n",
        "for i in range(10):\n",
        "    numero = int(input(f\"Ingrese el número {i + 1}: \"))\n",
        "\n",
        "    # Verificar si el número es par o impar\n",
        "    if numero % 2 == 0:\n",
        "        contador_pares += 1\n",
        "        numeros_pares.append(numero)\n",
        "    else:\n",
        "        # Detenerse ante el primer número impar\n",
        "        print(f\"Se encontró un número impar ({numero}). El programa se detendrá.\")\n",
        "        break\n",
        "\n",
        "# Imprimir los resultados\n",
        "print(f\"Cantidad de números pares: {contador_pares}\")\n",
        "print(f\"Números pares: {numeros_pares}\")\n"
      ],
      "metadata": {
        "colab": {
          "base_uri": "https://localhost:8080/"
        },
        "id": "2-X3JrgrFPm5",
        "outputId": "627191d3-b9c7-4b04-fe0e-0599fb554c2a"
      },
      "execution_count": 4,
      "outputs": [
        {
          "output_type": "stream",
          "name": "stdout",
          "text": [
            "Ingrese el número 1: 1\n",
            "Se encontró un número impar (1). El programa se detendrá.\n",
            "Cantidad de números pares: 0\n",
            "Números pares: []\n"
          ]
        }
      ]
    },
    {
      "cell_type": "code",
      "source": [
        "# Inicializar contador para pares y lista para almacenar los números pares\n",
        "contador_pares = 0\n",
        "numeros_pares = []\n",
        "\n",
        "# Leer números del usuario hasta encontrar el primer impar\n",
        "for i in range(10):\n",
        "    numero = int(input(f\"Ingrese el número {i + 1}: \"))\n",
        "\n",
        "    # Verificar si el número es par o impar\n",
        "    if numero % 2 == 0:\n",
        "        contador_pares += 1\n",
        "        numeros_pares.append(numero)\n",
        "    else:\n",
        "        # Detenerse ante el primer número impar\n",
        "        print(f\"Se encontró un número impar ({numero}). El programa se detendrá.\")\n",
        "        break\n",
        "\n",
        "# Imprimir los resultados\n",
        "if contador_pares > 0:\n",
        "    print(f\"Cantidad de números pares: {contador_pares}\")\n",
        "    print(f\"Números pares: {numeros_pares}\")\n",
        "else:\n",
        "    print(\"No se encontraron números pares.\")\n"
      ],
      "metadata": {
        "id": "TXy4iI1VF660"
      },
      "execution_count": null,
      "outputs": []
    },
    {
      "cell_type": "code",
      "source": [
        "#Ejercicio en grupos: Elaborar un algoritmo que lea los datos de varios estudiantes (nombre y tres calificaciones parciales) e imprima el siguiente reporte:\n",
        "#REPORTE DE CALIFICACIONES\n",
        "#NOTA1 NOTA2 NOTA3 NOTA FINAL\n",
        "#ХХХХХХХХХХХХХХХХХХ\n",
        "#XXXXXXXXXXXXXXXXXX\n",
        "#TOTAL 999 ESTUDIANTES\n",
        "#999\n",
        "#Para aprobar el curso, debe tener 70 o más en cada una de las tres calificaciones; la calificación final será el promedio. En caso de haber reprobado uno o más exámenes, la calificación será NA (no acreditado).\n",
        "\n",
        "\n",
        "# Definimos una lista para almacenar los datos de los estudiantes\n",
        "estudiantes = []\n",
        "\n",
        "# Leemos los datos de los 15 estudiantes\n",
        "for i in range(15):\n",
        "    print(f\"Ingrese los datos del estudiante {i + 1}:\")\n",
        "    nombre = input(\"Nombre del estudiante: \")\n",
        "    nota1 = float(input(\"Nota 1: \"))\n",
        "    nota2 = float(input(\"Nota 2: \"))\n",
        "    nota3 = float(input(\"Nota 3: \"))\n",
        "\n",
        "    # Guardamos los datos del estudiante en un diccionario\n",
        "    estudiante = {\n",
        "        'nombre': nombre,\n",
        "        'nota1': nota1,\n",
        "        'nota2': nota2,\n",
        "        'nota3': nota3\n",
        "    }\n",
        "\n",
        "    # Añadimos el estudiante a la lista\n",
        "    estudiantes.append(estudiante)\n",
        "\n",
        "# Imprimimos el reporte de calificaciones para cada estudiante\n",
        "for i, estudiante in enumerate(estudiantes):\n",
        "    print(f\"\\nREPORTE DE CALIFICACIONES Estudiante {i + 1}\")\n",
        "    print(f\"Nombre: {estudiante['nombre']}\")\n",
        "    print(f\"NOTA1: {estudiante['nota1']}\")\n",
        "    print(f\"NOTA2: {estudiante['nota2']}\")\n",
        "    print(f\"NOTA3: {estudiante['nota3']}\")\n",
        "\n",
        "    # Verificamos si el estudiante aprobó o no\n",
        "    if estudiante['nota1'] >= 70 and estudiante['nota2'] >= 70 and estudiante['nota3'] >= 70:\n",
        "        nota_final = (estudiante['nota1'] + estudiante['nota2'] + estudiante['nota3']) / 3\n",
        "        print(f\"NOTA FINAL: {nota_final:.2f}\")\n",
        "    else:\n",
        "        print(\"NOTA FINAL: NA (No Acreditado)\")\n"
      ],
      "metadata": {
        "colab": {
          "base_uri": "https://localhost:8080/"
        },
        "id": "0hg6UEJ3Nk68",
        "outputId": "bb7bf9ca-6436-4b70-bf76-e60d92d04771"
      },
      "execution_count": null,
      "outputs": [
        {
          "output_type": "stream",
          "name": "stdout",
          "text": [
            "Ingrese los datos del estudiante 1:\n"
          ]
        }
      ]
    },
    {
      "cell_type": "code",
      "source": [],
      "metadata": {
        "id": "-fc6JmV_OLHx"
      },
      "execution_count": null,
      "outputs": []
    }
  ]
}