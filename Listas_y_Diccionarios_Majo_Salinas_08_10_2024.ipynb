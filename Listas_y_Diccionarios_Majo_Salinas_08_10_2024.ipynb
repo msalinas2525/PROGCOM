{
  "nbformat": 4,
  "nbformat_minor": 0,
  "metadata": {
    "colab": {
      "provenance": []
    },
    "kernelspec": {
      "name": "python3",
      "display_name": "Python 3"
    },
    "language_info": {
      "name": "python"
    }
  },
  "cells": [
    {
      "cell_type": "markdown",
      "source": [
        "#LISTAS Y DICCIONARIOS\n",
        "\n",
        "\n"
      ],
      "metadata": {
        "id": "M_iTgaKlm4AR"
      }
    },
    {
      "cell_type": "markdown",
      "source": [
        "##**Listas:**\n",
        "\n",
        "En Python, una lista es una colección ordenada y mutable de elementos. Puedes almacenar diferentes tipos de datos en una misma lista, como números, cadenas, otras listas, etc. Las listas se crean utilizando corchetes [ ] , y los elementos se separan por comas."
      ],
      "metadata": {
        "id": "mqM5gTb3m_sU"
      }
    },
    {
      "cell_type": "code",
      "source": [
        "# Listas de ejemplo\n",
        "lista1 = [25, 8, 20, 5, 8, 8, 19, 78]\n",
        "lista2 = [\"María\", \"José\", \"Salinas\", \"Toro\", \"Soraya\", \"María\", \"Toro\", \"Ramón\"]\n"
      ],
      "metadata": {
        "id": "2_xG4D0moNJg"
      },
      "execution_count": null,
      "outputs": []
    },
    {
      "cell_type": "markdown",
      "source": [
        "##10  Métodos:"
      ],
      "metadata": {
        "id": "b8DFaLXBoSKN"
      }
    },
    {
      "cell_type": "code",
      "source": [
        "#1. append()\n",
        "#Agrega un elemento al final de la lista.\n",
        "\n",
        "lista1.append(100)\n",
        "print(lista1)  # [25, 8, 20, 5, 8, 8, 19, 78, 100]\n",
        "\n",
        "\n"
      ],
      "metadata": {
        "id": "Wonx_JZMoeeC"
      },
      "execution_count": null,
      "outputs": []
    },
    {
      "cell_type": "code",
      "source": [
        "#2. extend()\n",
        "#Extiende la lista agregando elementos de otra lista.\n",
        "\n",
        "lista1.extend([1, 2, 3])\n",
        "print(lista1)  # [25, 8, 20, 5, 8, 8, 19, 78, 100, 1, 2, 3]\n"
      ],
      "metadata": {
        "id": "_QPAxHwxolfw"
      },
      "execution_count": null,
      "outputs": []
    },
    {
      "cell_type": "code",
      "source": [
        "#3. insert()\n",
        "#Inserta un elemento en una posición específica.\n",
        "\n",
        "lista2.insert(2, \"Luis\")\n",
        "print(lista2)  # [\"María\", \"José\", \"Luis\", \"Salinas\", \"Toro\", \"Soraya\", \"María\", \"Toro\", \"Ramón\"]\n"
      ],
      "metadata": {
        "id": "4v0-lwjKovyA"
      },
      "execution_count": null,
      "outputs": []
    },
    {
      "cell_type": "code",
      "source": [
        "#4. remove()\n",
        "#Elimina la primera aparición de un elemento.\n",
        "\n",
        "lista1.remove(8)\n",
        "print(lista1)  # [25, 20, 5, 8, 8, 19, 78, 100, 1, 2, 3]\n"
      ],
      "metadata": {
        "id": "2ZjCEwt4o0kp"
      },
      "execution_count": null,
      "outputs": []
    },
    {
      "cell_type": "code",
      "source": [
        "#5. pop()\n",
        "#Elimina y devuelve el elemento en la posición dada (por defecto, el último).\n",
        "\n",
        "ultimo = lista1.pop()\n",
        "print(ultimo)  # 3\n",
        "print(lista1)  # [25, 20, 5, 8, 8, 19, 78, 100, 1, 2]\n"
      ],
      "metadata": {
        "id": "GgreZWgypWVd"
      },
      "execution_count": null,
      "outputs": []
    },
    {
      "cell_type": "code",
      "source": [
        "#6. index()\n",
        "#Devuelve el índice de la primera aparición de un elemento.\n",
        "\n",
        "indice = lista2.index(\"María\")\n",
        "print(indice)  # 0\n"
      ],
      "metadata": {
        "id": "Qfj5Ppm7peD_"
      },
      "execution_count": null,
      "outputs": []
    },
    {
      "cell_type": "code",
      "source": [
        "#7. count()\n",
        "#Devuelve el número de veces que un elemento aparece en la lista.\n",
        "\n",
        "contador = lista2.count(\"Toro\")\n",
        "print(contador)  # 2\n"
      ],
      "metadata": {
        "id": "Li_OfnLspkph"
      },
      "execution_count": null,
      "outputs": []
    },
    {
      "cell_type": "code",
      "source": [
        "#8. sort()\n",
        "#Ordena los elementos de la lista.\n",
        "\n",
        "lista1.sort()\n",
        "print(lista1)  # [1, 2, 5, 8, 8, 19, 20, 25, 78, 100]\n"
      ],
      "metadata": {
        "id": "npucsKuBpw_o"
      },
      "execution_count": null,
      "outputs": []
    },
    {
      "cell_type": "code",
      "source": [
        "#9. reverse()\n",
        "#Invierte el orden de los elementos de la lista.\n",
        "\n",
        "lista2.reverse()\n",
        "print(lista2)  # [\"Ramón\", \"Toro\", \"María\", \"Soraya\", \"Toro\", \"Salinas\", \"Luis\", \"José\", \"María\"]\n"
      ],
      "metadata": {
        "id": "uMCzQFT1p58W"
      },
      "execution_count": null,
      "outputs": []
    },
    {
      "cell_type": "code",
      "source": [
        "#10. clear()\n",
        "#Elimina todos los elementos de la lista.\n",
        "\n",
        "lista1.clear()\n",
        "print(lista1)  # []\n"
      ],
      "metadata": {
        "id": "9k9o80DOqBy5"
      },
      "execution_count": null,
      "outputs": []
    },
    {
      "cell_type": "markdown",
      "source": [
        "##**Diccionarios:**\n",
        "\n",
        "En Python, un diccionario es una colección no ordenada, mutable e indexada de pares de clave-valor. Se utiliza para almacenar datos en un formato que permite un acceso rápido a los valores utilizando claves únicas. Los diccionarios se crean utilizando llaves {} y cada par de clave-valor se separa por dos puntos :.\n",
        "\n",
        "\n"
      ],
      "metadata": {
        "id": "eeut1aLlrenM"
      }
    },
    {
      "cell_type": "markdown",
      "source": [
        "##10 Métodos:\n",
        ""
      ],
      "metadata": {
        "id": "Ve8zEgfAsU_o"
      }
    },
    {
      "cell_type": "code",
      "source": [
        "# Listas de ejemplo\n",
        "lista1 = [25, 8, 20, 5, 8, 8, 19, 78]\n",
        "lista2 = [\"María\", \"José\", \"Salinas\", \"Toro\", \"Soraya\", \"María\", \"Toro\", \"Ramón\"]\n",
        "\n",
        "# Crear un diccionario a partir de las listas\n",
        "mi_diccionario = dict(zip(lista1, lista2))\n"
      ],
      "metadata": {
        "id": "U1YZRJLdri_v"
      },
      "execution_count": null,
      "outputs": []
    },
    {
      "cell_type": "code",
      "source": [
        "#1. keys()\n",
        "#Devuelve una vista de las claves del diccionario.\n",
        "\n",
        "claves = mi_diccionario.keys()\n",
        "print(claves)  # dict_keys([25, 8, 20, 5])\n"
      ],
      "metadata": {
        "id": "VsfZovCAsqiR"
      },
      "execution_count": null,
      "outputs": []
    },
    {
      "cell_type": "code",
      "source": [
        "#2. values()\n",
        "#Devuelve una vista de los valores del diccionario.\n",
        "\n",
        "valores = mi_diccionario.values()\n",
        "print(valores)  # dict_values(['María', 'José', 'Salinas', 'Toro'])\n"
      ],
      "metadata": {
        "id": "XdlU5ZIps-vG"
      },
      "execution_count": null,
      "outputs": []
    },
    {
      "cell_type": "code",
      "source": [
        "#3. items()\n",
        "#Devuelve una vista de los pares clave-valor del diccionario.\n",
        "\n",
        "items = mi_diccionario.items()\n",
        "print(items)  # dict_items([(25, 'María'), (8, 'José'), ...])\n"
      ],
      "metadata": {
        "id": "aFdTHvZatC_y"
      },
      "execution_count": null,
      "outputs": []
    },
    {
      "cell_type": "code",
      "source": [
        "#4. get()\n",
        "#Devuelve el valor de la clave especificada (o un valor por defecto si la clave no existe).\n",
        "\n",
        "valor = mi_diccionario.get(25)\n",
        "print(valor)  # 'María'\n"
      ],
      "metadata": {
        "id": "DCnobEiXtYqK"
      },
      "execution_count": null,
      "outputs": []
    },
    {
      "cell_type": "code",
      "source": [
        "#5. update()\n",
        "#Actualiza el diccionario con los pares clave-valor de otro diccionario.\n",
        "\n",
        "mi_diccionario.update({5: \"Nuevo Valor\"})\n",
        "print(mi_diccionario)  # {25: 'María', 8: 'José', 20: 'Salinas', 5: 'Nuevo Valor'}\n"
      ],
      "metadata": {
        "id": "-LeBwtVgtdB0"
      },
      "execution_count": null,
      "outputs": []
    },
    {
      "cell_type": "code",
      "source": [
        "#6. pop()\n",
        "#Elimina la clave especificada y devuelve su valor.\n",
        "\n",
        "valor_eliminado = mi_diccionario.pop(20)\n",
        "print(valor_eliminado)  # 'Salinas'\n",
        "print(mi_diccionario)  # {25: 'María', 8: 'José', 5: 'Nuevo Valor'}\n"
      ],
      "metadata": {
        "id": "302vE2pPth1A"
      },
      "execution_count": null,
      "outputs": []
    },
    {
      "cell_type": "code",
      "source": [
        "#7. popitem()\n",
        "#Elimina y devuelve el último par clave-valor añadido.\n",
        "\n",
        "ultimo_item = mi_diccionario.popitem()\n",
        "print(ultimo_item)  # (5, 'Nuevo Valor')\n",
        "print(mi_diccionario)  # {25: 'María', 8: 'José'}\n"
      ],
      "metadata": {
        "id": "Mit8tKD6tuaB"
      },
      "execution_count": null,
      "outputs": []
    },
    {
      "cell_type": "code",
      "source": [
        "#8. clear()\n",
        "#Elimina todos los elementos del diccionario.\n",
        "\n",
        "mi_diccionario.clear()\n",
        "print(mi_diccionario)  # {}\n"
      ],
      "metadata": {
        "id": "PtTGS4uXtyT_"
      },
      "execution_count": null,
      "outputs": []
    },
    {
      "cell_type": "code",
      "source": [
        "#9. setdefault()\n",
        "#Devuelve el valor de la clave especificada. Si la clave no existe, la añade con el valor especificado.\n",
        "\n",
        "mi_diccionario.setdefault(30, \"Ana\")\n",
        "print(mi_diccionario)  # {30: 'Ana'}\n"
      ],
      "metadata": {
        "id": "T8aG4gk2t1QV"
      },
      "execution_count": null,
      "outputs": []
    },
    {
      "cell_type": "code",
      "source": [
        "#10. copy()\n",
        "#Devuelve una copia superficial del diccionario.\n",
        "\n",
        "copia_diccionario = mi_diccionario.copy()\n",
        "print(copia_diccionario)  # {30: 'Ana'}\n"
      ],
      "metadata": {
        "id": "NJq1Bf8et4F2"
      },
      "execution_count": null,
      "outputs": []
    }
  ]
}