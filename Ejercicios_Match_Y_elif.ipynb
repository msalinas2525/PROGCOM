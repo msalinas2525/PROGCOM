{
  "nbformat": 4,
  "nbformat_minor": 0,
  "metadata": {
    "colab": {
      "provenance": []
    },
    "kernelspec": {
      "name": "python3",
      "display_name": "Python 3"
    },
    "language_info": {
      "name": "python"
    }
  },
  "cells": [
    {
      "cell_type": "markdown",
      "source": [
        "#Ejercicios Match y Elif\n",
        "1. Decir si una letra es vocal mayúsula o minúscula\n",
        "2. Decir si un día es fin de semana o si es entre semana\n",
        "3. Clasificador de animales: Si es ave, mamífero o reptil. Porbar con Águila, Loro, León, tigre, cocodrilo y pitón\n",
        "4. Preguntar que lenguaje de programación desea aprender. Pequeño mensaje sobre vcada uno de los programas.\n"
      ],
      "metadata": {
        "id": "96kZTqR9UpEA"
      }
    },
    {
      "cell_type": "code",
      "source": [
        "#1 Match\n",
        "# Solicita al usuario que introduzca una letra\n",
        "letra = input(\"Introduce una letra: \")\n",
        "\n",
        "# Utiliza match para determinar si la letra es una vocal mayúscula, minúscula o no es una vocal\n",
        "match letra:\n",
        "    case 'A' | 'E' | 'I' | 'O' | 'U':  # Vocales mayúsculas\n",
        "        print(\"La letra es una vocal mayúscula.\")\n",
        "    case 'a' | 'e' | 'i' | 'o' | 'u':  # Vocales minúsculas\n",
        "        print(\"La letra es una vocal minúscula.\")\n",
        "    case _:\n",
        "        print(\"La letra no es una vocal.\")\n"
      ],
      "metadata": {
        "colab": {
          "base_uri": "https://localhost:8080/"
        },
        "id": "F5_QGk7mVUz4",
        "outputId": "db20592f-3c48-491e-dab0-622ae7c585df"
      },
      "execution_count": 1,
      "outputs": [
        {
          "output_type": "stream",
          "name": "stdout",
          "text": [
            "Introduce una letra: a\n",
            "La letra es una vocal minúscula.\n"
          ]
        }
      ]
    },
    {
      "cell_type": "code",
      "source": [
        "#1 Elif\n",
        "# Solicita al usuario que introduzca una letra\n",
        "letra = input(\"Introduce una letra: \")\n",
        "\n",
        "# Asegurarse de que se trabaja con una letra única\n",
        "if len(letra) != 1:\n",
        "    print(\"Introduce solo una letra.\")\n",
        "elif letra in 'AEIOU':\n",
        "    print(\"La letra es una vocal mayúscula.\")\n",
        "elif letra in 'aeiou':\n",
        "    print(\"La letra es una vocal minúscula.\")\n",
        "else:\n",
        "    print(\"La letra no es una vocal.\")\n",
        "\n"
      ],
      "metadata": {
        "colab": {
          "base_uri": "https://localhost:8080/"
        },
        "id": "wFhSzo4kVpWI",
        "outputId": "80cd0b13-f966-44f2-dc1e-30e2016dc6c4"
      },
      "execution_count": 2,
      "outputs": [
        {
          "output_type": "stream",
          "name": "stdout",
          "text": [
            "Introduce una letra: d\n",
            "La letra no es una vocal.\n"
          ]
        }
      ]
    },
    {
      "cell_type": "code",
      "source": [
        "#2 Match\n",
        "# Solicita al usuario que introduzca el nombre del día\n",
        "dia = input(\"Introduce el nombre del día: \").lower()  # Convertir a minúsculas para manejar entradas en cualquier caso\n",
        "\n",
        "# Determina si el día es fin de semana o entre semana\n",
        "match dia:\n",
        "    case 'sábado' | 'domingo':\n",
        "        print(\"Es fin de semana.\")\n",
        "    case 'lunes' | 'martes' | 'miércoles' | 'jueves' | 'viernes':\n",
        "        print(\"Es entre semana.\")\n",
        "    case _:\n",
        "        print(\"Día inválido.\")\n"
      ],
      "metadata": {
        "colab": {
          "base_uri": "https://localhost:8080/"
        },
        "id": "p8WEaf_YVz6Y",
        "outputId": "85a985ed-dda5-404f-c08e-6decce1121a4"
      },
      "execution_count": 4,
      "outputs": [
        {
          "output_type": "stream",
          "name": "stdout",
          "text": [
            "Introduce el nombre del día: sábado\n",
            "Es fin de semana.\n"
          ]
        }
      ]
    },
    {
      "cell_type": "code",
      "source": [
        "#2 Elif\n",
        "# Solicita al usuario que introduzca el nombre del día\n",
        "dia = input(\"Introduce el nombre del día (en español o inglés): \").lower()\n",
        "\n",
        "# Determina si el día es fin de semana o entre semana\n",
        "if dia in ('sábado', 'sunday', 'domingo', 'saturday'):\n",
        "    print(\"Es fin de semana.\")\n",
        "elif dia in ('lunes', 'monday'):\n",
        "    print(\"Es entre semana.\")\n",
        "elif dia in ('martes', 'tuesday'):\n",
        "    print(\"Es entre semana.\")\n",
        "elif dia in ('miércoles', 'wednesday'):\n",
        "    print(\"Es entre semana.\")\n",
        "elif dia in ('jueves', 'thursday'):\n",
        "    print(\"Es entre semana.\")\n",
        "elif dia in ('viernes', 'friday'):\n",
        "    print(\"Es entre semana.\")\n",
        "else:\n",
        "    print(\"Día inválido.\")\n",
        "\n"
      ],
      "metadata": {
        "id": "oblB9T0gWU3n"
      },
      "execution_count": null,
      "outputs": []
    },
    {
      "cell_type": "code",
      "source": [
        "#3 Match\n",
        "# Lista de animales para clasificar\n",
        "animales = [\"Águila\", \"Loro\", \"León\", \"Tigre\", \"Cocodrilo\", \"Pitón\"]\n",
        "\n",
        "# Iterar sobre cada animal en la lista\n",
        "for animal in animales:\n",
        "    match animal.lower():  # Convertimos a minúsculas para evitar problemas de mayúsculas/minúsculas\n",
        "        case \"águila\" | \"loro\":\n",
        "            categoria = \"Ave\"\n",
        "        case \"león\" | \"tigre\":\n",
        "            categoria = \"Mamífero\"\n",
        "        case \"cocodrilo\" | \"pitón\":\n",
        "            categoria = \"Reptil\"\n",
        "        case _:\n",
        "            categoria = \"Desconocido\"\n",
        "\n",
        "    # Imprimir el resultado\n",
        "    print(f\"El {animal} es un {categoria}.\")\n"
      ],
      "metadata": {
        "id": "WOiigbRvXHe2"
      },
      "execution_count": null,
      "outputs": []
    },
    {
      "cell_type": "code",
      "source": [
        "#Elif\n",
        "# Lista de animales para clasificar\n",
        "animales = [\"Águila\", \"Loro\", \"León\", \"Tigre\", \"Cocodrilo\", \"Pitón\"]\n",
        "\n",
        "# Iterar sobre cada animal en la lista\n",
        "for animal in animales:\n",
        "    # Convertir a minúsculas para evitar problemas con mayúsculas/minúsculas\n",
        "    animal_lower = animal.lower()\n",
        "\n",
        "    # Clasificar el animal usando if, elif y else\n",
        "    if animal_lower == \"águila\" or animal_lower == \"loro\":\n",
        "        categoria = \"Ave\"\n",
        "    elif animal_lower == \"león\" or animal_lower == \"tigre\":\n",
        "        categoria = \"Mamífero\"\n",
        "    elif animal_lower == \"cocodrilo\" or animal_lower == \"pitón\":\n",
        "        categoria = \"Reptil\"\n",
        "    else:\n",
        "        categoria = \"Desconocido\"\n",
        "    print(f\"El {animal} es un {categoria}.\")\n"
      ],
      "metadata": {
        "id": "8mBessyGXmiF"
      },
      "execution_count": null,
      "outputs": []
    },
    {
      "cell_type": "code",
      "source": [
        "#4 Match\n",
        "# Preguntar al usuario qué lenguaje de programación desea aprender\n",
        "lenguaje = input(\"¿Qué lenguaje de programación deseas aprender? (Python, Java, JavaScript, C++, HTML): \").strip().lower()\n",
        "\n",
        "# Proveer un pequeño mensaje sobre cada lenguaje usando match\n",
        "match lenguaje:\n",
        "    case \"python\":\n",
        "        mensaje = \"Python es conocido por su sintaxis clara y sencilla, ideal para principiantes y popular en ciencia de datos y desarrollo web.\"\n",
        "    case \"java\":\n",
        "        mensaje = \"Java es un lenguaje robusto, ampliamente usado en aplicaciones empresariales y desarrollo de Android.\"\n",
        "    case \"javascript\":\n",
        "        mensaje = \"JavaScript es esencial para el desarrollo web, permitiendo crear páginas interactivas y dinámicas.\"\n",
        "    case \"c++\":\n",
        "        mensaje = \"C++ es un lenguaje potente y rápido, muy utilizado en desarrollo de sistemas, juegos y software de alto rendimiento.\"\n",
        "    case \"html\":\n",
        "        mensaje = \"HTML es el lenguaje base para la creación de páginas web, definiendo la estructura y el contenido de las mismas.\"\n",
        "    case _:\n",
        "        mensaje = \"Lenguaje no reconocido o no soportado. Por favor, elige entre Python, Java, JavaScript, C++, o HTML.\"\n",
        "\n",
        "# Imprimir el mensaje correspondiente\n",
        "print(mensaje)\n"
      ],
      "metadata": {
        "id": "qgXcuk0nXqq1"
      },
      "execution_count": null,
      "outputs": []
    },
    {
      "cell_type": "code",
      "source": [
        "#elif\n",
        "\n",
        "lenguaje = input(\"¿Qué lenguaje de programación deseas aprender? (Python, Java, JavaScript, C++, HTML): \").strip().lower()\n",
        "\n",
        "# Proveer un pequeño mensaje sobre cada lenguaje usando if, elif y else\n",
        "if lenguaje == \"python\":\n",
        "    mensaje = \"Python es conocido por su sintaxis clara y sencilla, ideal para principiantes y popular en ciencia de datos y desarrollo web.\"\n",
        "elif lenguaje == \"java\":\n",
        "    mensaje = \"Java es un lenguaje robusto, ampliamente usado en aplicaciones empresariales y desarrollo de Android.\"\n",
        "elif lenguaje == \"javascript\":\n",
        "    mensaje = \"JavaScript es esencial para el desarrollo web, permitiendo crear páginas interactivas y dinámicas.\"\n",
        "elif lenguaje == \"c++\":\n",
        "    mensaje = \"C++ es un lenguaje potente y rápido, muy utilizado en desarrollo de sistemas, juegos y software de alto rendimiento.\"\n",
        "elif lenguaje == \"html\":\n",
        "    mensaje = \"HTML es el lenguaje base para la creación de páginas web, definiendo la estructura y el contenido de las mismas.\"\n",
        "else:\n",
        "    mensaje = \"Lenguaje no reconocido o no soportado. Por favor, elige entre Python, Java, JavaScript, C++, o HTML.\"\n",
        "\n",
        "# Imprimir el mensaje correspondiente\n",
        "print(mensaje)\n"
      ],
      "metadata": {
        "id": "4a6e-0-LX9z9"
      },
      "execution_count": null,
      "outputs": []
    },
    {
      "cell_type": "code",
      "source": [
        "# 1. hallar el mayor de 5 numeros. El programa debe validar que todos los numeros sean diferentes\n",
        "a, b, c, d, e = 5, 3, 8, 1, 7  # Ejemplo de números\n",
        "\n",
        "print(\"Los números no son diferentes\") if len({a, b, c, d, e}) != 5 else print(f\"El mayor número es: {a if a > b and a > c and a > d and a > e else b if b > c and b > d and b > e else c if c > d and c > e else d if d > e else e}\")\n"
      ],
      "metadata": {
        "colab": {
          "base_uri": "https://localhost:8080/"
        },
        "id": "Wz1LHzgCY331",
        "outputId": "0a5b9c73-991c-41a8-927e-7ea09a464a15"
      },
      "execution_count": 16,
      "outputs": [
        {
          "output_type": "stream",
          "name": "stdout",
          "text": [
            "El mayor número es: 8\n"
          ]
        }
      ]
    },
    {
      "cell_type": "code",
      "source": [
        "#2 Se presentan 3 personas: Definir cuales el mayor e los 3. Definir de acuerdo a su edad si es un adulto, adolecente o niño\n",
        "# Ingresar las edades de las 3 personas\n",
        "edad1 = int(input(\"Ingresa la edad de la primera persona: \"))\n",
        "edad2 = int(input(\"Ingresa la edad de la segunda persona: \"))\n",
        "edad3 = int(input(\"Ingresa la edad de la tercera persona: \"))\n",
        "\n",
        "# Encontrar la persona de mayor edad\n",
        "mayor_edad = edad1 if (edad1 > edad2 and edad1 > edad3) else (\n",
        "             edad2 if (edad2 > edad3) else edad3)\n",
        "\n",
        "# Clasificar cada persona usando operadores ternarios\n",
        "categoria1 = \"Adulto\" if edad1 >= 18 else \"Adolescente\" if edad1 >= 13 else \"Niño\"\n",
        "categoria2 = \"Adulto\" if edad2 >= 18 else \"Adolescente\" if edad2 >= 13 else \"Niño\"\n",
        "categoria3 = \"Adulto\" if edad3 >= 18 else \"Adolescente\" if edad3 >= 13 else \"Niño\"\n",
        "\n",
        "# Imprimir el resultado del mayor y las categorías\n",
        "print(f\"La persona de mayor edad tiene {mayor_edad} años.\")\n",
        "print(f\"La primera persona es un {categoria1}.\")\n",
        "print(f\"La segunda persona es un {categoria2}.\")\n",
        "print(f\"La tercera persona es un {categoria3}.\")"
      ],
      "metadata": {
        "colab": {
          "base_uri": "https://localhost:8080/"
        },
        "id": "LjGYaSZeb9xC",
        "outputId": "542f0b78-8f28-4d21-cd73-ff6a1bd8ab64"
      },
      "execution_count": 17,
      "outputs": [
        {
          "output_type": "stream",
          "name": "stdout",
          "text": [
            "Ingresa la edad de la primera persona: 12\n",
            "Ingresa la edad de la segunda persona: 23\n",
            "Ingresa la edad de la tercera persona: 45\n",
            "La persona de mayor edad tiene 45 años.\n",
            "La primera persona es un Niño.\n",
            "La segunda persona es un Adulto.\n",
            "La tercera persona es un Adulto.\n"
          ]
        }
      ]
    },
    {
      "cell_type": "code",
      "source": [
        " #4\n",
        "numero=4\n",
        "if numero < 0 or numero > 9:\n",
        "    print(\"El número no pertenece al rango 0-9\")\n",
        "elif numero % 2 == 0:\n",
        "    print(\"El número es par\")\n",
        "else:\n",
        "    print(\"El número es impar\")"
      ],
      "metadata": {
        "colab": {
          "base_uri": "https://localhost:8080/"
        },
        "id": "vdr9APJ2fY4A",
        "outputId": "386cf3dc-e1a2-4de8-8b4c-e1af5479fe2c"
      },
      "execution_count": 18,
      "outputs": [
        {
          "output_type": "stream",
          "name": "stdout",
          "text": [
            "El número es par\n"
          ]
        }
      ]
    },
    {
      "cell_type": "code",
      "source": [
        "match numero:\n",
        "    case n if n < 0 or n > 9:\n",
        "        print(\"El número no pertenece al rango 0-9\")\n",
        "    case n if n % 2 == 0:\n",
        "        print(\"El número es par\")\n",
        "    case _:\n",
        "        print(\"El número es impar\")"
      ],
      "metadata": {
        "colab": {
          "base_uri": "https://localhost:8080/"
        },
        "id": "ywD4GntYfZfo",
        "outputId": "2a4be6b4-6cd1-4624-ff81-e22ab44c84a0"
      },
      "execution_count": 19,
      "outputs": [
        {
          "output_type": "stream",
          "name": "stdout",
          "text": [
            "El número es par\n"
          ]
        }
      ]
    }
  ]
}