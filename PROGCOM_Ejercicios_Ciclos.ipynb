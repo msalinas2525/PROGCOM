{
  "nbformat": 4,
  "nbformat_minor": 0,
  "metadata": {
    "colab": {
      "provenance": []
    },
    "kernelspec": {
      "name": "python3",
      "display_name": "Python 3"
    },
    "language_info": {
      "name": "python"
    }
  },
  "cells": [
    {
      "cell_type": "markdown",
      "source": [
        "#EJERCICIOS CICLOS\n",
        "Realizar los ejercicios usando for y while\n"
      ],
      "metadata": {
        "id": "S9R90mv_mGgA"
      }
    },
    {
      "cell_type": "code",
      "source": [
        "#1.Indicar si un número N es un número primo (siendo N un número que se lee)\n",
        "#Usando while\n",
        "N = int(input(\"Introduce un número: \"))\n",
        "i = 2\n",
        "while i < N:\n",
        "    if N % i == 0:\n",
        "        print(f\"El número {N} no es un número primo\")\n",
        "        break\n",
        "    i += 1\n",
        "else:\n",
        "    print(f\"El número {N} es un número primo\")"
      ],
      "metadata": {
        "id": "7_RLCUUgmYKT"
      },
      "execution_count": null,
      "outputs": []
    },
    {
      "cell_type": "code",
      "source": [
        "#Usando ciclo para\n",
        "n = int(input(\"Introduce un número: \"))\n",
        "for i in range(2, n):\n",
        "    if n % i == 0:\n",
        "        print(f\"El número {n} no es un número primo\")\n",
        "        break\n",
        "else:\n",
        "    print(f\"El número {n} es un número primo\")"
      ],
      "metadata": {
        "id": "V-JDRH4Xmf9Q"
      },
      "execution_count": null,
      "outputs": []
    },
    {
      "cell_type": "code",
      "source": [
        "#2. Imprimir los 30 primeros números de Fibonnaci\n",
        "#Usando while\n",
        "I = 0\n",
        "J = 1\n",
        "cont = 0\n",
        "while cont < 30:\n",
        "    print(I)\n",
        "    I, J = J, I + J\n",
        "    cont += 1"
      ],
      "metadata": {
        "id": "rDa-Z7z-mliP"
      },
      "execution_count": null,
      "outputs": []
    },
    {
      "cell_type": "code",
      "source": [
        "#Usando for\n",
        "I = 0\n",
        "J = 1\n",
        "for i in range(30):\n",
        "    print(I)\n",
        "    I, J = J, I + J\n"
      ],
      "metadata": {
        "id": "_XoxwJOamp6t"
      },
      "execution_count": null,
      "outputs": []
    },
    {
      "cell_type": "code",
      "source": [
        "#3. Calcular la factorial de un número N (siendo N un número que se lee)\n",
        "#Usando while\n",
        "n = int(input(\"Introduce un número: \"))\n",
        "factorial = 1\n",
        "i = 1\n",
        "while i <= n:\n",
        "    factorial *= i\n",
        "    i += 1\n",
        "print(f\"El factorial de {n} es {factorial}\")"
      ],
      "metadata": {
        "id": "DQb-CM67mtow"
      },
      "execution_count": null,
      "outputs": []
    },
    {
      "cell_type": "code",
      "source": [
        "#Usando for\n",
        "n = int(input(\"Introduce un número: \"))\n",
        "factorial = 1\n",
        "for i in range(1, n + 1):\n",
        "    factorial *= i\n",
        "print(f\"El factorial de {n} es {factorial}\")"
      ],
      "metadata": {
        "id": "K8K7D9aOmzRQ"
      },
      "execution_count": null,
      "outputs": []
    },
    {
      "cell_type": "code",
      "source": [
        "#4. Calcular la factorial de 10 números diferentes cuyos valores se leen\n",
        "#Usando while\n",
        "cont = 0\n",
        "while cont < 10:\n",
        "  n= int(input(\"Introduce un número: \"))\n",
        "  factorial = 1\n",
        "  i = 1\n",
        "  while i <= n:\n",
        "    factorial *= i\n",
        "    i += 1\n",
        "  print(f\"El factorial de {n} es {factorial}\")\n",
        "  cont += 1"
      ],
      "metadata": {
        "id": "LH2fZt4Lm3eX"
      },
      "execution_count": null,
      "outputs": []
    },
    {
      "cell_type": "code",
      "source": [
        "#Usando for\n",
        "for i in range(10):\n",
        "    n = int(input(\"Introduce un número: \"))\n",
        "    factorial = 1\n",
        "    for j in range(1, n + 1):\n",
        "        factorial *= j\n",
        "    print(f\"El factorial de {n} es {factorial}\")"
      ],
      "metadata": {
        "id": "3uiijCB6nAHW"
      },
      "execution_count": null,
      "outputs": []
    },
    {
      "cell_type": "code",
      "source": [
        "#5.Leer 20 números y encontrar el mayor y el menor valor leídos\n",
        "#Usando while\n",
        "lista=[]\n",
        "numeros=1\n",
        "c=1\n",
        "while c<21: #en vez de el for y el brake se usa el while para cortar el proceso a los 20 números\n",
        "  numeros=int(input(\"Ingrese un número: \"))\n",
        "  c+=1\n",
        "  lista.append(numeros)\n",
        "  lista.sort()\n",
        "longitud=len(lista)\n",
        "print(\"La longitud de la lista son \", longitud,\" números\")\n",
        "print(\"Los números son: \", lista)\n",
        "print(\"El número menor es: \", lista[0])\n",
        "print(\"El número mayor es: \", lista[19])"
      ],
      "metadata": {
        "id": "qQkqv69LnDXz"
      },
      "execution_count": null,
      "outputs": []
    },
    {
      "cell_type": "code",
      "source": [
        "#Usando for\n",
        "lista=[]\n",
        "numeros=1\n",
        "c=1\n",
        "for i in range(21): #que no lea más de 20 números\n",
        "  numeros=int(input(\"Ingrese un número: \"))\n",
        "  c+=1\n",
        "  lista.append(numeros) #agregar los números a una lista\n",
        "  lista.sort() #ordenar la lista de menor a mayor\n",
        "  if c==21: break #dejar de solicitar cuando el contador llegue 21\n",
        "longitud=len(lista)\n",
        "print(\"La longitud de la lista son \", longitud,\" números\")\n",
        "print(\"Los números son: \", lista)\n",
        "print(\"El número menor es: \", lista[0]) #imprimir el primer numero de la lista, osea el menor\n",
        "print(\"El número mayor es: \", lista[19]) #imprimir el ultimo numero de la lista, osea el mayor\n"
      ],
      "metadata": {
        "colab": {
          "base_uri": "https://localhost:8080/"
        },
        "id": "YRZmCMuPnOYV",
        "outputId": "f8d14a75-a1f4-4687-d77b-1aca47d81d03"
      },
      "execution_count": 10,
      "outputs": [
        {
          "output_type": "stream",
          "name": "stdout",
          "text": [
            "Ingrese un número: 1\n",
            "Ingrese un número: 2\n",
            "Ingrese un número: 2\n",
            "Ingrese un número: 2\n",
            "Ingrese un número: 2\n",
            "Ingrese un número: 2\n",
            "Ingrese un número: 2\n",
            "Ingrese un número: 2\n",
            "Ingrese un número: 2\n",
            "Ingrese un número: 2\n",
            "Ingrese un número: 2\n",
            "Ingrese un número: 2\n",
            "Ingrese un número: 2\n",
            "Ingrese un número: 2\n",
            "Ingrese un número: 4\n",
            "Ingrese un número: 6\n",
            "Ingrese un número: 7\n",
            "Ingrese un número: 8\n",
            "Ingrese un número: 9\n",
            "Ingrese un número: 8\n",
            "La longitud de la lista son  20  números\n",
            "Los números son:  [1, 2, 2, 2, 2, 2, 2, 2, 2, 2, 2, 2, 2, 2, 4, 6, 7, 8, 8, 9]\n",
            "El número menor es:  1\n",
            "El número mayor es:  9\n"
          ]
        }
      ]
    },
    {
      "cell_type": "code",
      "execution_count": null,
      "metadata": {
        "colab": {
          "base_uri": "https://localhost:8080/"
        },
        "id": "Ng7NtEYpdYCZ",
        "outputId": "9534edfb-ce61-4091-b2f9-de8d5ec4d154"
      },
      "outputs": [
        {
          "output_type": "stream",
          "name": "stdout",
          "text": [
            "Introduce un número del 1 al 10 para mostrar su tabla de multiplicar: 5\n",
            "5 x 1 = 5\n",
            "5 x 2 = 10\n",
            "5 x 3 = 15\n",
            "5 x 4 = 20\n",
            "5 x 5 = 25\n",
            "5 x 6 = 30\n",
            "5 x 7 = 35\n",
            "5 x 8 = 40\n",
            "5 x 9 = 45\n",
            "5 x 10 = 50\n"
          ]
        }
      ],
      "source": [
        "#  6. Mostrar la tabla de multiplicar del número que seleccione el usuario. Revisar que esté en el rango de 1 a 10.\n",
        "#Usando while\n",
        "\n",
        "numero = int(input(\"Introduce un número del 1 al 10 para mostrar su tabla de multiplicar: \"))\n",
        "\n",
        "while numero < 1 or numero > 10:\n",
        "    print(\"Número fuera de rango. Por favor, introduce un número entre 1 y 10.\")\n",
        "    numero = int(input(\"Introduce un número del 1 al 10 para mostrar su tabla de multiplicar: \"))\n",
        "\n",
        "i = 1\n",
        "\n",
        "while i <= 10:\n",
        "    print(f\"{numero} x {i} = {numero * i}\")\n",
        "    i += 1\n"
      ]
    },
    {
      "cell_type": "code",
      "source": [
        "#Usando ciclo para\n",
        "\n",
        "numero = 0\n",
        "\n",
        "for _ in range(10):  # El ciclo solo se ejecutará un máximo de 10 veces\n",
        "    numero = int(input(\"Introduce un número del 1 al 10 para mostrar su tabla de multiplicar: \"))\n",
        "    if 1 <= numero <= 10:\n",
        "        break\n",
        "    else:\n",
        "     print(\"Número no válido. No se pudo obtener un número en el rango de 1 a 10.\")\n",
        "\n",
        "if 1 <= numero <= 10:\n",
        "    for i in range(1, 11):\n",
        "        print(f\"{numero} x {i} = {numero * i}\")\n",
        "\n"
      ],
      "metadata": {
        "colab": {
          "base_uri": "https://localhost:8080/"
        },
        "id": "-sGZjqg0erKX",
        "outputId": "cee62cef-1611-496f-eb31-1a3e24b8b3d7"
      },
      "execution_count": null,
      "outputs": [
        {
          "output_type": "stream",
          "name": "stdout",
          "text": [
            "Introduce un número del 1 al 10 para mostrar su tabla de multiplicar: 23\n",
            "Número no válido. No se pudo obtener un número en el rango de 1 a 10.\n",
            "Introduce un número del 1 al 10 para mostrar su tabla de multiplicar: 1\n",
            "1 x 1 = 1\n",
            "1 x 2 = 2\n",
            "1 x 3 = 3\n",
            "1 x 4 = 4\n",
            "1 x 5 = 5\n",
            "1 x 6 = 6\n",
            "1 x 7 = 7\n",
            "1 x 8 = 8\n",
            "1 x 9 = 9\n",
            "1 x 10 = 10\n"
          ]
        }
      ]
    },
    {
      "cell_type": "code",
      "source": [
        "#7. Calcular la suma siguiente: 100+90+80+70+…+0\n",
        "#Usando while\n",
        "\n",
        "suma = 0       # Variable para almacenar la suma total\n",
        "numero = 100   # Empezamos con el número 100\n",
        "\n",
        "# Usar un bucle while para sumar los números de 100 a 0, restando de 10 en 10\n",
        "while numero >= 0:\n",
        "    suma += numero      # Sumar el número actual a la suma total\n",
        "    numero -= 10        # Decrementar el número en 10\n",
        "\n",
        "# Mostrar el resultado de la suma\n",
        "print(\"La suma es:\", suma)\n"
      ],
      "metadata": {
        "colab": {
          "base_uri": "https://localhost:8080/"
        },
        "id": "Bobl0pI7fOl6",
        "outputId": "476b470b-052d-4054-cc95-0a7b28aa39f3"
      },
      "execution_count": null,
      "outputs": [
        {
          "output_type": "stream",
          "name": "stdout",
          "text": [
            "La suma es: 550\n"
          ]
        }
      ]
    },
    {
      "cell_type": "code",
      "source": [
        "#Usando ciclo para\n",
        "suma = 0\n",
        "\n",
        "# Usar un bucle for para recorrer los números de 100 a 0, restando de 10 en 10\n",
        "for numero in range(100, -1, -10):\n",
        "    suma += numero  # Sumar el número actual a la suma total\n",
        "\n",
        "# Mostrar el resultado de la suma\n",
        "print(\"La suma es:\", suma)\n"
      ],
      "metadata": {
        "colab": {
          "base_uri": "https://localhost:8080/"
        },
        "id": "6YxSIw3MgCB9",
        "outputId": "913a9111-7f2a-48a1-874f-17184b74b635"
      },
      "execution_count": null,
      "outputs": [
        {
          "output_type": "stream",
          "name": "stdout",
          "text": [
            "La suma es: 550\n"
          ]
        }
      ]
    },
    {
      "cell_type": "code",
      "source": [
        "#8. Leer un número entero N y calcular la siguiente serie: 1-(1/2)+(1/3)-(1/4)+...+/-(1/N)\n",
        "#Usando while\n",
        "\n",
        "N = int(input(\"Introduce un número entero N: \"))\n",
        "\n",
        "suma = 0.0\n",
        "i = 1  # Inicializar el contador\n",
        "\n",
        "# Usar un bucle while para calcular la serie\n",
        "while i <= N:\n",
        "    # Añadir o restar la fracción según sea par o impar el índice\n",
        "    suma += ((-1) ** (i + 1)) * (1 / i)\n",
        "    i += 1  # Incrementar el contador\n",
        "\n",
        "# Mostrar el resultado de la serie\n",
        "print(\"El resultado de la serie es:\", suma)\n"
      ],
      "metadata": {
        "colab": {
          "base_uri": "https://localhost:8080/"
        },
        "id": "TC2J1Ys2hk7x",
        "outputId": "a03b2e12-53d3-4805-8f70-7fc02814eed9"
      },
      "execution_count": null,
      "outputs": [
        {
          "output_type": "stream",
          "name": "stdout",
          "text": [
            "Introduce un número entero N: 4\n",
            "El resultado de la serie es: 0.5833333333333333\n"
          ]
        }
      ]
    },
    {
      "cell_type": "code",
      "source": [
        "#Usando el ciclo para\n",
        "\n",
        "N = int(input(\"Introduce un número entero N: \"))\n",
        "\n",
        "suma = 0.0\n",
        "\n",
        "# Usar un bucle for para calcular la serie\n",
        "for i in range(1, N + 1):\n",
        "    # Añadir o restar la fracción según sea par o impar el índice\n",
        "    suma += ((-1) ** (i + 1)) * (1 / i)\n",
        "\n",
        "# Mostrar el resultado de la serie\n",
        "print(\"El resultado de la serie es:\", suma)\n"
      ],
      "metadata": {
        "id": "AXdKph-SgQAJ"
      },
      "execution_count": null,
      "outputs": []
    },
    {
      "cell_type": "code",
      "source": [
        "#9. Leer un número entero N y calcular el resultado de la serie: (2/1)+(4/3)+(6/5)+...+(12/11)+... Hasta N valores\n",
        "#Usando while\n",
        "\n",
        "N = int(input(\"Introduce un número entero N: \"))\n",
        "\n",
        "suma = 0.0\n",
        "i = 1  # Inicializar el contador\n",
        "\n",
        "# Usar un bucle while para calcular la serie\n",
        "while i <= N:\n",
        "    numerador = 2 * i         # Numerador de la fracción es 2 * i\n",
        "    denominador = 2 * i - 1   # Denominador de la fracción es 2 * i - 1\n",
        "    suma += numerador / denominador  # Sumar la fracción a la suma total\n",
        "    i += 1  # Incrementar el contador\n",
        "\n",
        "# Mostrar el resultado de la serie\n",
        "print(\"El resultado de la serie es:\", suma)\n"
      ],
      "metadata": {
        "colab": {
          "base_uri": "https://localhost:8080/"
        },
        "id": "HNutZW_ih42k",
        "outputId": "ef378f4c-1d8e-4252-e1ed-a2894941ad17"
      },
      "execution_count": null,
      "outputs": [
        {
          "output_type": "stream",
          "name": "stdout",
          "text": [
            "Introduce un número entero N: 5\n",
            "El resultado de la serie es: 6.787301587301586\n"
          ]
        }
      ]
    },
    {
      "cell_type": "code",
      "source": [
        "#Usando ciclo para\n",
        "\n",
        "N = int(input(\"Introduce un número entero N: \"))\n",
        "\n",
        "\n",
        "suma = 0.0\n",
        "\n",
        "# Usar un bucle for para calcular la serie\n",
        "for i in range(1, N + 1):\n",
        "    numerador = 2 * i      # Numerador de la fracción es 2 * i\n",
        "    denominador = 2 * i - 1  # Denominador de la fracción es 2 * i - 1\n",
        "    suma += numerador / denominador  # Sumar la fracción a la suma total\n",
        "\n",
        "# Mostrar el resultado de la serie\n",
        "print(\"El resultado de la serie es:\", suma)\n"
      ],
      "metadata": {
        "colab": {
          "base_uri": "https://localhost:8080/"
        },
        "id": "qB_-uzbGigus",
        "outputId": "440ec86b-350b-4af0-a0d7-1cb26ba39d7b"
      },
      "execution_count": null,
      "outputs": [
        {
          "output_type": "stream",
          "name": "stdout",
          "text": [
            "Introduce un número entero N: 5\n",
            "El resultado de la serie es: 6.787301587301586\n"
          ]
        }
      ]
    },
    {
      "cell_type": "code",
      "source": [
        "# 10. Multiplicar los números introducidos por el usuario que estén en el rango del 1 al 10. Terminar cuando el usuario introduzca un número fuera del rango y mostrar el resultado\n",
        "#Usando while\n",
        "\n",
        "resultado = 1\n",
        "\n",
        "# Leer el primer número\n",
        "numero = int(input(\"Introduce un número del 1 al 10 (o un número fuera de ese rango para terminar): \"))\n",
        "\n",
        "# Usar un bucle while para seguir solicitando números hasta que se ingrese un número fuera del rango\n",
        "while 1 <= numero <= 10:\n",
        "    resultado *= numero  # Multiplicar el número al resultado acumulado\n",
        "    # Leer el siguiente número\n",
        "    numero = int(input(\"Introduce otro número del 1 al 10 (o un número fuera de ese rango para terminar): \"))\n",
        "\n",
        "# Mostrar el resultado de la multiplicación\n",
        "print(\"El resultado de la multiplicación es:\", resultado)\n"
      ],
      "metadata": {
        "id": "E9ELgJbIixT8"
      },
      "execution_count": null,
      "outputs": []
    },
    {
      "cell_type": "code",
      "source": [
        "#Usando el ciclo para\n",
        "\n",
        "resultado = 1\n",
        "\n",
        "for _ in range(1000):  # Usamos un rango grande como límite arbitrario para el bucle\n",
        "    numero = int(input(\"Introduce un número del 1 al 10 (o un número fuera de ese rango para terminar): \"))\n",
        "\n",
        "    if 1 <= numero <= 10:\n",
        "        resultado *= numero  # Multiplicar el número al resultado acumulado\n",
        "    else:\n",
        "        break  # Terminar el bucle si el número está fuera del rango\n",
        "\n",
        "# Mostrar el resultado de la multiplicación\n",
        "print(\"El resultado de la multiplicación es:\", resultado)\n"
      ],
      "metadata": {
        "id": "nKijeiZ5jYik"
      },
      "execution_count": null,
      "outputs": []
    }
  ]
}