{
  "nbformat": 4,
  "nbformat_minor": 0,
  "metadata": {
    "colab": {
      "provenance": []
    },
    "kernelspec": {
      "name": "python3",
      "display_name": "Python 3"
    },
    "language_info": {
      "name": "python"
    }
  },
  "cells": [
    {
      "cell_type": "markdown",
      "source": [
        "#Ejercicios:\n",
        "5. Elaborar un algoritmo que permita leer una letra e imprimir si es vocal o si es consonante.\n",
        "\n",
        "6. Un sistema de ecuaciones lineales:\n",
        "ax+by=c\n",
        "dx+ey=f\n",
        "Se puede resolver con las fórmulas:\n",
        "x=(ce-bf)/(ae-bd) y=(af-cd)/(ae-bd) si(ae-bd)<>O\n",
        "Elaborar un algoritmo que lea los cocientes a,b,c,d,e,f, y que calcule e imprima los valores de X y Y. Si (ae-bd)=0 imprima un mensaje que indique que no tiene solución.\n",
        "\n",
        "7. Elaborar un algoritmo que lea un número de 1 al 12 e imprima a que mes corresponde."
      ],
      "metadata": {
        "id": "AwR3e8OT6Tqo"
      }
    },
    {
      "cell_type": "code",
      "source": [
        "#5 elif\n",
        "# Leer una letra del usuario\n",
        "letra = input(\"Ingresa una letra: \").lower()\n",
        "\n",
        "# Verificar si es una vocal o consonante\n",
        "if letra == 'a':\n",
        "    print(\"Es una vocal.\")\n",
        "elif letra == 'e':\n",
        "    print(\"Es una vocal.\")\n",
        "elif letra == 'i':\n",
        "    print(\"Es una vocal.\")\n",
        "elif letra == 'o':\n",
        "    print(\"Es una vocal.\")\n",
        "elif letra == 'u':\n",
        "    print(\"Es una vocal.\")\n",
        "elif letra.isalpha() and len(letra) == 1:  # Verifica que sea una letra del alfabeto y de longitud 1\n",
        "    print(\"Es una consonante.\")\n",
        "else:\n",
        "    print(\"No es una letra válida.\")\n"
      ],
      "metadata": {
        "colab": {
          "base_uri": "https://localhost:8080/"
        },
        "id": "q_Vf8yy69zwb",
        "outputId": "f2e4936e-620e-4898-8928-d081ec059805"
      },
      "execution_count": 2,
      "outputs": [
        {
          "output_type": "stream",
          "name": "stdout",
          "text": [
            "Ingresa una letra: t\n",
            "Es una consonante.\n"
          ]
        }
      ]
    },
    {
      "cell_type": "code",
      "source": [
        "#5 Match\n",
        "# Leer una letra del usuario\n",
        "letra = input(\"Ingresa una letra: \").lower()\n",
        "\n",
        "# Usar match para determinar si es vocal o consonante\n",
        "match letra:\n",
        "    case 'a' | 'e' | 'i' | 'o' | 'u':\n",
        "        print(\"Es una vocal.\")\n",
        "    case _ if letra.isalpha() and len(letra) == 1:\n",
        "        print(\"Es una consonante.\")\n",
        "    case _:\n",
        "        print(\"No es una letra válida.\")\n"
      ],
      "metadata": {
        "colab": {
          "base_uri": "https://localhost:8080/"
        },
        "id": "uaI9Z1y492iS",
        "outputId": "c60b1d25-4e03-4394-85ac-76b536581cd9"
      },
      "execution_count": 3,
      "outputs": [
        {
          "output_type": "stream",
          "name": "stdout",
          "text": [
            "Ingresa una letra: i\n",
            "Es una vocal.\n"
          ]
        }
      ]
    },
    {
      "cell_type": "code",
      "source": [
        "#5 Operador ternario\n",
        "# Leer una letra del usuario\n",
        "letra = input(\"Ingresa una letra: \").lower()\n",
        "\n",
        "# Verificar si es vocal o consonante usando operador ternario\n",
        "resultado = \"Es una vocal.\" if letra in 'aeiou' else \"Es una consonante.\" if letra.isalpha() and len(letra) == 1 else \"No es una letra válida.\"\n",
        "\n",
        "# Imprimir el resultado\n",
        "print(resultado)\n"
      ],
      "metadata": {
        "colab": {
          "base_uri": "https://localhost:8080/"
        },
        "id": "Xnr15sBF9-js",
        "outputId": "6a97c74b-9b2a-4e62-d6fe-f87b49c05fec"
      },
      "execution_count": 1,
      "outputs": [
        {
          "output_type": "stream",
          "name": "stdout",
          "text": [
            "Ingresa una letra: a\n",
            "Es una vocal.\n"
          ]
        }
      ]
    },
    {
      "cell_type": "code",
      "source": [
        "#6 elif\n",
        "# Leer los coeficientes a, b, c, d, e, f\n",
        "a = float(input(\"Ingresa el valor de a: \"))\n",
        "b = float(input(\"Ingresa el valor de b: \"))\n",
        "c = float(input(\"Ingresa el valor de c: \"))\n",
        "d = float(input(\"Ingresa el valor de d: \"))\n",
        "e = float(input(\"Ingresa el valor de e: \"))\n",
        "f = float(input(\"Ingresa el valor de f: \"))\n",
        "\n",
        "# Calcular el determinante (ae - bd)\n",
        "determinante = (a * e) - (b * d)\n",
        "\n",
        "# Verificar si el determinante es distinto de cero\n",
        "if determinante != 0:\n",
        "    # Calcular los valores de x e y\n",
        "    x = (c * e - b * f) / determinante\n",
        "    y = (a * f - c * d) / determinante\n",
        "    # Imprimir los valores de x e y\n",
        "    print(f\"El valor de x es: {x}\")\n",
        "    print(f\"El valor de y es: {y}\")\n",
        "elif determinante == 0:\n",
        "    # Imprimir mensaje de que no tiene solución\n",
        "    print(\"El sistema no tiene solución, ya que (ae - bd) = 0.\")\n",
        "\n"
      ],
      "metadata": {
        "id": "z5EPNvkt-hzJ"
      },
      "execution_count": null,
      "outputs": []
    },
    {
      "cell_type": "code",
      "source": [
        "#6 match\n",
        "# Leer los coeficientes a, b, c, d, e, f\n",
        "a = float(input(\"Ingresa el valor de a: \"))\n",
        "b = float(input(\"Ingresa el valor de b: \"))\n",
        "c = float(input(\"Ingresa el valor de c: \"))\n",
        "d = float(input(\"Ingresa el valor de d: \"))\n",
        "e = float(input(\"Ingresa el valor de e: \"))\n",
        "f = float(input(\"Ingresa el valor de f: \"))\n",
        "\n",
        "# Calcular el determinante (ae - bd)\n",
        "determinante = (a * e) - (b * d)\n",
        "\n",
        "# Usar match para evaluar el valor del determinante\n",
        "match determinante:\n",
        "    case 0:\n",
        "        print(\"El sistema no tiene solución, ya que (ae - bd) = 0.\")\n",
        "    case _:\n",
        "        # Calcular los valores de x e y\n",
        "        x = (c * e - b * f) / determinante\n",
        "        y = (a * f - c * d) / determinante\n",
        "        # Imprimir los valores de x e y\n",
        "        print(f\"El valor de x es: {x}\")\n",
        "        print(f\"El valor de y es: {y}\")\n"
      ],
      "metadata": {
        "id": "Qw7O_EjIBbSV"
      },
      "execution_count": null,
      "outputs": []
    },
    {
      "cell_type": "code",
      "source": [
        "#6 Operador ternario\n",
        "# Leer los coeficientes a, b, c, d, e, f\n",
        "a = float(input(\"Ingresa el valor de a: \"))\n",
        "b = float(input(\"Ingresa el valor de b: \"))\n",
        "c = float(input(\"Ingresa el valor de c: \"))\n",
        "d = float(input(\"Ingresa el valor de d: \"))\n",
        "e = float(input(\"Ingresa el valor de e: \"))\n",
        "f = float(input(\"Ingresa el valor de f: \"))\n",
        "\n",
        "# Calcular el determinante (ae - bd)\n",
        "determinante = (a * e) - (b * d)\n",
        "\n",
        "# Usar el operador ternario para determinar si el sistema tiene solución\n",
        "mensaje = (\n",
        "    f\"El valor de x es: {(c * e - b * f) / determinante} y el valor de y es: {(a * f - c * d) / determinante}\"\n",
        "    if determinante != 0\n",
        "    else \"El sistema no tiene solución, ya que (ae - bd) = 0.\"\n",
        ")\n",
        "\n",
        "# Imprimir el resultado\n",
        "print(mensaje)\n"
      ],
      "metadata": {
        "colab": {
          "base_uri": "https://localhost:8080/"
        },
        "id": "qApaFCylBpJC",
        "outputId": "f93b759d-b47d-4fac-e95c-d24834cd6e69"
      },
      "execution_count": 4,
      "outputs": [
        {
          "output_type": "stream",
          "name": "stdout",
          "text": [
            "Ingresa el valor de a: 1\n",
            "Ingresa el valor de b: 2\n",
            "Ingresa el valor de c: 3\n",
            "Ingresa el valor de d: 4\n",
            "Ingresa el valor de e: 5\n",
            "Ingresa el valor de f: 6\n",
            "El valor de x es: -1.0 y el valor de y es: 2.0\n"
          ]
        }
      ]
    },
    {
      "cell_type": "code",
      "source": [
        "#7 elif\n",
        "# Leer un número del usuario\n",
        "numero = int(input(\"Ingresa un número del 1 al 12: \"))\n",
        "\n",
        "# Determinar el mes correspondiente usando elif\n",
        "if numero == 1:\n",
        "    print(\"Enero\")\n",
        "elif numero == 2:\n",
        "    print(\"Febrero\")\n",
        "elif numero == 3:\n",
        "    print(\"Marzo\")\n",
        "elif numero == 4:\n",
        "    print(\"Abril\")\n",
        "elif numero == 5:\n",
        "    print(\"Mayo\")\n",
        "elif numero == 6:\n",
        "    print(\"Junio\")\n",
        "elif numero == 7:\n",
        "    print(\"Julio\")\n",
        "elif numero == 8:\n",
        "    print(\"Agosto\")\n",
        "elif numero == 9:\n",
        "    print(\"Septiembre\")\n",
        "elif numero == 10:\n",
        "    print(\"Octubre\")\n",
        "elif numero == 11:\n",
        "    print(\"Noviembre\")\n",
        "elif numero == 12:\n",
        "    print(\"Diciembre\")\n",
        "else:\n",
        "    print(\"Número inválido. Debe estar entre 1 y 12.\")\n"
      ],
      "metadata": {
        "colab": {
          "base_uri": "https://localhost:8080/"
        },
        "id": "KIxsGQp-B5KG",
        "outputId": "2e12eb80-0f00-446a-e5ef-81c916ebc7ec"
      },
      "execution_count": 5,
      "outputs": [
        {
          "output_type": "stream",
          "name": "stdout",
          "text": [
            "Ingresa un número del 1 al 12: 4\n",
            "Abril\n"
          ]
        }
      ]
    },
    {
      "cell_type": "code",
      "source": [
        "#7 Match\n",
        "# Leer un número del usuario\n",
        "numero = int(input(\"Ingresa un número del 1 al 12: \"))\n",
        "\n",
        "# Usar match para determinar el mes correspondiente\n",
        "match numero:\n",
        "    case 1:\n",
        "        print(\"Enero\")\n",
        "    case 2:\n",
        "        print(\"Febrero\")\n",
        "    case 3:\n",
        "        print(\"Marzo\")\n",
        "    case 4:\n",
        "        print(\"Abril\")\n",
        "    case 5:\n",
        "        print(\"Mayo\")\n",
        "    case 6:\n",
        "        print(\"Junio\")\n",
        "    case 7:\n",
        "        print(\"Julio\")\n",
        "    case 8:\n",
        "        print(\"Agosto\")\n",
        "    case 9:\n",
        "        print(\"Septiembre\")\n",
        "    case 10:\n",
        "        print(\"Octubre\")\n",
        "    case 11:\n",
        "        print(\"Noviembre\")\n",
        "    case 12:\n",
        "        print(\"Diciembre\")\n",
        "    case _:\n",
        "        print(\"Número inválido. Debe estar entre 1 y 12.\")\n"
      ],
      "metadata": {
        "id": "pnr6E6knCFeu"
      },
      "execution_count": null,
      "outputs": []
    },
    {
      "cell_type": "code",
      "source": [
        "#7 Operador Ternario\n",
        "# Leer un número del usuario\n",
        "numero = int(input(\"Ingresa un número del 1 al 12: \"))\n",
        "\n",
        "# Usar el operador ternario para determinar el mes o mostrar mensaje de error\n",
        "mensaje = (\n",
        "    \"Enero\" if numero == 1 else\n",
        "    \"Febrero\" if numero == 2 else\n",
        "    \"Marzo\" if numero == 3 else\n",
        "    \"Abril\" if numero == 4 else\n",
        "    \"Mayo\" if numero == 5 else\n",
        "    \"Junio\" if numero == 6 else\n",
        "    \"Julio\" if numero == 7 else\n",
        "    \"Agosto\" if numero == 8 else\n",
        "    \"Septiembre\" if numero == 9 else\n",
        "    \"Octubre\" if numero == 10 else\n",
        "    \"Noviembre\" if numero == 11 else\n",
        "    \"Diciembre\" if numero == 12 else\n",
        "    \"Número inválido. Debe estar entre 1 y 12.\"\n",
        ")\n",
        "\n",
        "# Imprimir el resultado\n",
        "print(mensaje)\n",
        "\n"
      ],
      "metadata": {
        "colab": {
          "base_uri": "https://localhost:8080/"
        },
        "id": "ODxz2dJaCKZG",
        "outputId": "747aef3f-2b08-4f1c-ea37-95a7b94dd857"
      },
      "execution_count": 6,
      "outputs": [
        {
          "output_type": "stream",
          "name": "stdout",
          "text": [
            "Ingresa un número del 1 al 12: 6\n",
            "Junio\n"
          ]
        }
      ]
    }
  ]
}