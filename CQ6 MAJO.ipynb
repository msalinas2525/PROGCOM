{
  "nbformat": 4,
  "nbformat_minor": 0,
  "metadata": {
    "colab": {
      "provenance": []
    },
    "kernelspec": {
      "name": "python3",
      "display_name": "Python 3"
    },
    "language_info": {
      "name": "python"
    }
  },
  "cells": [
    {
      "cell_type": "markdown",
      "source": [
        "#False\n",
        "**Definición:** Constante incorporada que representa el valor booleano de \"falso\"."
      ],
      "metadata": {
        "id": "CJPdZQ2KZENJ"
      }
    },
    {
      "cell_type": "code",
      "execution_count": null,
      "metadata": {
        "colab": {
          "base_uri": "https://localhost:8080/"
        },
        "id": "uSBzRZ-vY8EP",
        "outputId": "2701c79f-69ca-43ba-af4c-2c8ad063f447"
      },
      "outputs": [
        {
          "output_type": "stream",
          "name": "stdout",
          "text": [
            "No te recomiendo usar bloqueador.\n"
          ]
        }
      ],
      "source": [
        "soleado = False\n",
        "if soleado:\n",
        "    print(\"Te recomiendo usar bloqueador.\")\n",
        "else:\n",
        "    print(\"No te recomiendo usar bloqueador.\")\n"
      ]
    },
    {
      "cell_type": "markdown",
      "source": [
        "#None\n",
        "**Definición:** Denota falta de valor."
      ],
      "metadata": {
        "id": "K4r7XbWqZXhi"
      }
    },
    {
      "cell_type": "code",
      "source": [
        "result = None\n",
        "if result is None:\n",
        "    print(\"No hay resultado disponible.\")\n"
      ],
      "metadata": {
        "colab": {
          "base_uri": "https://localhost:8080/"
        },
        "id": "Y0YEz3JZZXzj",
        "outputId": "8e609721-34ed-4464-ace9-72cfce6aea56"
      },
      "execution_count": null,
      "outputs": [
        {
          "output_type": "stream",
          "name": "stdout",
          "text": [
            "No hay resultado disponible.\n"
          ]
        }
      ]
    },
    {
      "cell_type": "markdown",
      "source": [
        "#True\n",
        "**Definición:** Es un valor booleano que representa \"verdadero\"."
      ],
      "metadata": {
        "id": "yeFRo0r_Zi0y"
      }
    },
    {
      "cell_type": "code",
      "source": [
        "is_rainy = True\n",
        "if is_rainy:\n",
        "    print(\"Hoy está lloviendo.\")\n"
      ],
      "metadata": {
        "colab": {
          "base_uri": "https://localhost:8080/"
        },
        "id": "1zk2cLMHZnAE",
        "outputId": "d65a74f9-8be7-4dbc-ad70-21aa3c45fa33"
      },
      "execution_count": null,
      "outputs": [
        {
          "output_type": "stream",
          "name": "stdout",
          "text": [
            "Hoy está lloviendo.\n"
          ]
        }
      ]
    },
    {
      "cell_type": "markdown",
      "source": [
        "#and\n",
        "**Definición:** Operador lógico que evalúa si el valor a la izquierda y el de la derecha son True , y en el caso de ser cierto, devuelve True . Si uno de los dos valores es False , el resultado será False."
      ],
      "metadata": {
        "id": "L7r3tlGPZrbr"
      }
    },
    {
      "cell_type": "code",
      "source": [
        "is_sunny = True\n",
        "is_warm = True\n",
        "if is_sunny and is_warm:\n",
        "    print(\"Es un buen día para ir a la playa.\")\n"
      ],
      "metadata": {
        "colab": {
          "base_uri": "https://localhost:8080/"
        },
        "id": "EKOXpGxeZuHs",
        "outputId": "2aac7911-fcd3-4e5e-bc07-ddf2106c5e80"
      },
      "execution_count": null,
      "outputs": [
        {
          "output_type": "stream",
          "name": "stdout",
          "text": [
            "Es un buen día para ir a la playa.\n"
          ]
        }
      ]
    },
    {
      "cell_type": "markdown",
      "source": [
        "#as\n",
        "**Definición:** Se utiliza para crear un alias al importar un módulo."
      ],
      "metadata": {
        "id": "fnI0Zl35ZvL1"
      }
    },
    {
      "cell_type": "code",
      "source": [
        "import math as x\n",
        "print(x.sqrt(64))\n"
      ],
      "metadata": {
        "colab": {
          "base_uri": "https://localhost:8080/"
        },
        "id": "3kPbSe0XeWIF",
        "outputId": "97b5cda4-bf56-44a4-c7d0-a24215ec6717"
      },
      "execution_count": null,
      "outputs": [
        {
          "output_type": "stream",
          "name": "stdout",
          "text": [
            "8.0\n"
          ]
        }
      ]
    },
    {
      "cell_type": "markdown",
      "source": [
        "#assert\n",
        "**Definición:** Es una herramienta para establecer verdades fundamentales en tu código. Funcionan permitiendo a los desarrolladores validar las suposiciones de su código."
      ],
      "metadata": {
        "id": "9Nc_fQMXZvup"
      }
    },
    {
      "cell_type": "code",
      "source": [
        "x = 5\n",
        "assert x > 0, \"x debería ser mayor que 0\"\n"
      ],
      "metadata": {
        "id": "hkzEKzyqeWmr"
      },
      "execution_count": null,
      "outputs": []
    },
    {
      "cell_type": "markdown",
      "source": [
        "#break\n",
        "**Definición:** Finaliza la ejecución del bucle o la instrucción condicional envolvente más próximo en el que aparece."
      ],
      "metadata": {
        "id": "B9Ae-QiYZwK4"
      }
    },
    {
      "cell_type": "code",
      "source": [
        "for i in range(20):\n",
        "    if i == 8:\n",
        "        break\n",
        "    print(i)\n"
      ],
      "metadata": {
        "colab": {
          "base_uri": "https://localhost:8080/"
        },
        "id": "vOXg3xo5eW-6",
        "outputId": "1d08a987-f4b3-4df1-8c6d-828311a874ca"
      },
      "execution_count": null,
      "outputs": [
        {
          "output_type": "stream",
          "name": "stdout",
          "text": [
            "0\n",
            "1\n",
            "2\n",
            "3\n",
            "4\n",
            "5\n",
            "6\n",
            "7\n"
          ]
        }
      ]
    },
    {
      "cell_type": "markdown",
      "source": [
        "#class\n",
        "**Definición:** Estructura de programación que permite definir un conjunto de métodos y atributos que describen un objeto o entidad."
      ],
      "metadata": {
        "id": "etaR86YoZx0R"
      }
    },
    {
      "cell_type": "code",
      "source": [
        "class Persona:\n",
        "    def __init__(self, nombre):\n",
        "        self.nombre = nombre\n",
        "\n",
        "p = Persona(\"Juan\")\n",
        "print(p.nombre)\n"
      ],
      "metadata": {
        "colab": {
          "base_uri": "https://localhost:8080/"
        },
        "id": "aUhAzwCFeYFj",
        "outputId": "f6d399c3-4398-4c8c-dad5-a79731a7cc61"
      },
      "execution_count": null,
      "outputs": [
        {
          "output_type": "stream",
          "name": "stdout",
          "text": [
            "Juan\n"
          ]
        }
      ]
    },
    {
      "cell_type": "markdown",
      "source": [
        "#continue\n",
        "\n",
        "**Definición:** Salta el resto del código dentro del ciclo y continúa con la siguiente iteración."
      ],
      "metadata": {
        "id": "JnmAVrl4ZwwS"
      }
    },
    {
      "cell_type": "code",
      "source": [
        "for i in range(5):\n",
        "    if i == 2:\n",
        "        continue\n",
        "    print(i)\n"
      ],
      "metadata": {
        "colab": {
          "base_uri": "https://localhost:8080/"
        },
        "id": "EdjzNgdseYgv",
        "outputId": "56dc5fb8-d3b4-4fec-8828-169bee7ca430"
      },
      "execution_count": null,
      "outputs": [
        {
          "output_type": "stream",
          "name": "stdout",
          "text": [
            "0\n",
            "1\n",
            "3\n",
            "4\n"
          ]
        }
      ]
    },
    {
      "cell_type": "markdown",
      "source": [
        "#def\n",
        "\n",
        "**Definición:** Se utiliza para definir una función.\n"
      ],
      "metadata": {
        "id": "wtCI928BZyXl"
      }
    },
    {
      "cell_type": "code",
      "source": [
        "def despedida():\n",
        "    print(\"Hasta la próxima\")\n",
        "\n",
        "despedida()\n"
      ],
      "metadata": {
        "colab": {
          "base_uri": "https://localhost:8080/"
        },
        "id": "F7dUXTJneY87",
        "outputId": "42c20316-6636-4aa0-c0c8-36b1465f6567"
      },
      "execution_count": null,
      "outputs": [
        {
          "output_type": "stream",
          "name": "stdout",
          "text": [
            "Hasta la próxima\n"
          ]
        }
      ]
    },
    {
      "cell_type": "markdown",
      "source": [
        "#del\n",
        "**Definición:** Elimina una variable, lista, o un elemento de una lista."
      ],
      "metadata": {
        "id": "4UE0XNFcaDqE"
      }
    },
    {
      "cell_type": "code",
      "source": [
        "lista = [1, 2, 3]\n",
        "del lista[1]\n",
        "print(lista)\n"
      ],
      "metadata": {
        "colab": {
          "base_uri": "https://localhost:8080/"
        },
        "id": "eCniI-RdemOl",
        "outputId": "7b0e0f77-7b43-42ef-fb04-26fbd9360a71"
      },
      "execution_count": null,
      "outputs": [
        {
          "output_type": "stream",
          "name": "stdout",
          "text": [
            "[1, 3]\n"
          ]
        }
      ]
    },
    {
      "cell_type": "markdown",
      "source": [
        "#elif\n",
        "**Definición:** Se utiliza para comprobar múltiples condiciones si una condición es falsa."
      ],
      "metadata": {
        "id": "5GYluOAGaDSf"
      }
    },
    {
      "cell_type": "code",
      "source": [
        "n=int(input(\"Ingrese un número \"))\n",
        "m=int(input(\"Ingrese otro número \"))\n",
        "x=int(input(\"Ingrese otro número \"))\n",
        "if x>n and x<=m:\n",
        "  print(f\"El número {x} es mayor que {n} y menor o igual que {m}\")\n",
        "elif x>n and x>m:\n",
        "   print(f\"El número {x} es mayor que {n} pero no es menor o igual que {m}\")\n",
        "elif x<n and x<=m:\n",
        "   print(f\"El número {x} no es mayor que {n} pero es menor o igual que {m}\")"
      ],
      "metadata": {
        "colab": {
          "base_uri": "https://localhost:8080/"
        },
        "id": "qSLgdYrmenq3",
        "outputId": "a1d1f679-f587-4088-a2ee-741cc7ee9772"
      },
      "execution_count": null,
      "outputs": [
        {
          "output_type": "stream",
          "name": "stdout",
          "text": [
            "Ingrese un número 5\n",
            "Ingrese otro número 20\n",
            "Ingrese otro número 15\n",
            "El número 15 es mayor que 5 y menor o igual que 20\n"
          ]
        }
      ]
    },
    {
      "cell_type": "markdown",
      "source": [
        "#else\n",
        "\n",
        "**Definición:** Se utiliza para definir el bloque de código a ejecutar si ninguna condición previa es verdadera."
      ],
      "metadata": {
        "id": "u28RSEMiaEKD"
      }
    },
    {
      "cell_type": "code",
      "source": [
        "x = 5\n",
        "if x > 10:\n",
        "    print(\"Mayor que 10\")\n",
        "else:\n",
        "    print(\"Menor o igual a 10\")\n"
      ],
      "metadata": {
        "colab": {
          "base_uri": "https://localhost:8080/"
        },
        "id": "X7-AvhbteodI",
        "outputId": "37e91043-c6d7-42f1-a85f-f9c0166a06d8"
      },
      "execution_count": null,
      "outputs": [
        {
          "output_type": "stream",
          "name": "stdout",
          "text": [
            "Menor o igual a 10\n"
          ]
        }
      ]
    },
    {
      "cell_type": "markdown",
      "source": [
        "#except\n",
        "\n",
        "**Definición:** Forma de controlar el comportamiento de un programa cuando se produce un error."
      ],
      "metadata": {
        "id": "l3P7-4MBaZwx"
      }
    },
    {
      "cell_type": "code",
      "source": [
        "try:\n",
        "    x = 1 / 0\n",
        "except ZeroDivisionError:\n",
        "    print(\"No se puede dividir por cero.\")\n"
      ],
      "metadata": {
        "colab": {
          "base_uri": "https://localhost:8080/"
        },
        "id": "oM47jWBieo11",
        "outputId": "9d4a583b-6a75-442d-cfb4-52cb162816de"
      },
      "execution_count": null,
      "outputs": [
        {
          "output_type": "stream",
          "name": "stdout",
          "text": [
            "No se puede dividir por cero.\n"
          ]
        }
      ]
    },
    {
      "cell_type": "markdown",
      "source": [
        "#finally\n",
        "\n",
        "**Definición:** Permite ejecutar todas las líneas que se encuentran en este bloque sin importar si se levantó alguna excepción."
      ],
      "metadata": {
        "id": "ms_iMIixaaYG"
      }
    },
    {
      "cell_type": "code",
      "source": [
        "try:\n",
        "    x = 1 / 0\n",
        "except ZeroDivisionError:\n",
        "    print(\"Error de división.\")\n",
        "finally:\n",
        "    print(\"Esto se ejecuta siempre.\")\n"
      ],
      "metadata": {
        "colab": {
          "base_uri": "https://localhost:8080/"
        },
        "id": "nBvHqpvdfU2L",
        "outputId": "1c3e745a-a696-4148-84a6-ed2e89bbf10f"
      },
      "execution_count": null,
      "outputs": [
        {
          "output_type": "stream",
          "name": "stdout",
          "text": [
            "Error de división.\n",
            "Esto se ejecuta siempre.\n"
          ]
        }
      ]
    },
    {
      "cell_type": "markdown",
      "source": [
        "#for\n",
        "**Definición:** Permite repetir una instrucción o una instrucción compuesta un número especificado de veces."
      ],
      "metadata": {
        "id": "GGUp4iYzabA6"
      }
    },
    {
      "cell_type": "code",
      "source": [
        "for i in range(10):\n",
        "    print(i)\n"
      ],
      "metadata": {
        "colab": {
          "base_uri": "https://localhost:8080/"
        },
        "id": "FBLg8tGCfVOS",
        "outputId": "7513b986-4fd5-475b-dad4-bf3c300b4010"
      },
      "execution_count": null,
      "outputs": [
        {
          "output_type": "stream",
          "name": "stdout",
          "text": [
            "0\n",
            "1\n",
            "2\n",
            "3\n",
            "4\n",
            "5\n",
            "6\n",
            "7\n",
            "8\n",
            "9\n"
          ]
        }
      ]
    },
    {
      "cell_type": "markdown",
      "source": [
        "#from\n",
        "**Definición:** Se utiliza para importar partes específicas de un módulo."
      ],
      "metadata": {
        "id": "6JfYdehWaNbF"
      }
    },
    {
      "cell_type": "code",
      "source": [
        "from math import e\n",
        "print(e)\n"
      ],
      "metadata": {
        "colab": {
          "base_uri": "https://localhost:8080/"
        },
        "id": "Thxhf1fefWW9",
        "outputId": "f1da58e4-bff4-4066-8b9f-e5dcac259e2b"
      },
      "execution_count": null,
      "outputs": [
        {
          "output_type": "stream",
          "name": "stdout",
          "text": [
            "2.718281828459045\n"
          ]
        }
      ]
    },
    {
      "cell_type": "markdown",
      "source": [
        "#global\n",
        "**Definición:** Declara que una variable dentro de una función es global."
      ],
      "metadata": {
        "id": "RmHH2aScaOU5"
      }
    },
    {
      "cell_type": "code",
      "source": [
        "x = 57\n",
        "def cambiar_valor():\n",
        "    global x\n",
        "    x = 14\n",
        "\n",
        "cambiar_valor()\n",
        "print(x)\n"
      ],
      "metadata": {
        "colab": {
          "base_uri": "https://localhost:8080/"
        },
        "id": "FcMHrxEufXZP",
        "outputId": "e06201be-3d58-4481-a1dd-c7865f4c7b42"
      },
      "execution_count": null,
      "outputs": [
        {
          "output_type": "stream",
          "name": "stdout",
          "text": [
            "14\n"
          ]
        }
      ]
    },
    {
      "cell_type": "markdown",
      "source": [
        "#if\n",
        "**Definición:** Se utiliza para verificar una condición y ejecutarla si la condición es verdadera."
      ],
      "metadata": {
        "id": "rjCcMtzTaN1v"
      }
    },
    {
      "cell_type": "code",
      "source": [
        "y = 5\n",
        "if y > 0:\n",
        "    print(\"y es positivo\")\n"
      ],
      "metadata": {
        "colab": {
          "base_uri": "https://localhost:8080/"
        },
        "id": "bgwjpkUXfYt2",
        "outputId": "8eaaf40b-6d9e-48a6-a55a-ef4bef766fad"
      },
      "execution_count": null,
      "outputs": [
        {
          "output_type": "stream",
          "name": "stdout",
          "text": [
            "y es positivo\n"
          ]
        }
      ]
    },
    {
      "cell_type": "markdown",
      "source": [
        "#import\n",
        "**Definición:** Se usa para importar funciones que han sido exportadas desde un módulo externo.\n"
      ],
      "metadata": {
        "id": "aYfiMYz9atdN"
      }
    },
    {
      "cell_type": "code",
      "source": [
        "import math\n",
        "print(math.sqrt(169))\n"
      ],
      "metadata": {
        "colab": {
          "base_uri": "https://localhost:8080/"
        },
        "id": "IGanCUd2fZVU",
        "outputId": "f905bae8-1036-499c-c388-ce59ddab844d"
      },
      "execution_count": null,
      "outputs": [
        {
          "output_type": "stream",
          "name": "stdout",
          "text": [
            "13.0\n"
          ]
        }
      ]
    },
    {
      "cell_type": "markdown",
      "source": [
        "#in\n",
        "**Definición:** Se utiliza para comprobar si un valor está presente en una secuencia."
      ],
      "metadata": {
        "id": "pa1c6ok6atxV"
      }
    },
    {
      "cell_type": "code",
      "source": [
        "lista = [1, 2, 3]\n",
        "if 3 in lista:\n",
        "    print(\"3 está en la lista\")\n"
      ],
      "metadata": {
        "colab": {
          "base_uri": "https://localhost:8080/"
        },
        "id": "mH_Rb9knfaFC",
        "outputId": "f5a7c47d-10b4-4cab-cbc3-95188fc22770"
      },
      "execution_count": null,
      "outputs": [
        {
          "output_type": "stream",
          "name": "stdout",
          "text": [
            "3 está en la lista\n"
          ]
        }
      ]
    },
    {
      "cell_type": "markdown",
      "source": [
        "#is\n",
        "**Definición:** Verifica si dos objetos apuntan al mismo espacio en memoria."
      ],
      "metadata": {
        "id": "q10xqOJwauJ6"
      }
    },
    {
      "cell_type": "code",
      "source": [
        "a = [1, 2, 3]\n",
        "b = a\n",
        "print(a is b)  # True\n"
      ],
      "metadata": {
        "colab": {
          "base_uri": "https://localhost:8080/"
        },
        "id": "6gcSa8jmfa69",
        "outputId": "66e6b251-c1c9-4ec6-ca13-39cf11bd432b"
      },
      "execution_count": null,
      "outputs": [
        {
          "output_type": "stream",
          "name": "stdout",
          "text": [
            "True\n"
          ]
        }
      ]
    },
    {
      "cell_type": "markdown",
      "source": [
        "#lambda\n",
        "**Definición:** Se utiliza para crear funciones anónimas pequeñas."
      ],
      "metadata": {
        "id": "ZyVMXzD8auv8"
      }
    },
    {
      "cell_type": "code",
      "source": [
        "suma = lambda x, y: x + y\n",
        "print(suma(2, 3))\n"
      ],
      "metadata": {
        "colab": {
          "base_uri": "https://localhost:8080/"
        },
        "id": "QoQLgq-dfbeM",
        "outputId": "0d63de83-6062-41d9-903f-af5a60c61724"
      },
      "execution_count": null,
      "outputs": [
        {
          "output_type": "stream",
          "name": "stdout",
          "text": [
            "5\n"
          ]
        }
      ]
    },
    {
      "cell_type": "markdown",
      "source": [
        "#nonlocal\n",
        "**Definición:** Permite modificar la variable de los ámbitos no locales."
      ],
      "metadata": {
        "id": "WE0zrqJpbGex"
      }
    },
    {
      "cell_type": "code",
      "source": [
        "def externa():\n",
        "    x = \"local\"\n",
        "    def interna():\n",
        "        nonlocal x\n",
        "        x = \"no local\"\n",
        "    interna()\n",
        "    print(x)\n",
        "externa()\n"
      ],
      "metadata": {
        "colab": {
          "base_uri": "https://localhost:8080/"
        },
        "id": "omhyWdmufb5l",
        "outputId": "9e407c74-f5aa-459c-bb66-4964051bdb15"
      },
      "execution_count": null,
      "outputs": [
        {
          "output_type": "stream",
          "name": "stdout",
          "text": [
            "no local\n"
          ]
        }
      ]
    },
    {
      "cell_type": "markdown",
      "source": [
        "#not\n",
        "**Definición:** Es un operador lógico que invierte el valor de verdad de una expresión."
      ],
      "metadata": {
        "id": "_jVDzX4davaT"
      }
    },
    {
      "cell_type": "code",
      "source": [
        "otoño = False\n",
        "if not otoño:\n",
        "    print(\"No es otoño.\")\n"
      ],
      "metadata": {
        "colab": {
          "base_uri": "https://localhost:8080/"
        },
        "id": "HgNZuJFZf-VC",
        "outputId": "8ac90a49-4aca-42f3-8289-37fdee0032af"
      },
      "execution_count": null,
      "outputs": [
        {
          "output_type": "stream",
          "name": "stdout",
          "text": [
            "No es otoño.\n"
          ]
        }
      ]
    },
    {
      "cell_type": "markdown",
      "source": [
        "#or\n",
        "**Definición:** Operador lógico que retorna True si al menos una condición es verdadera."
      ],
      "metadata": {
        "id": "m6Hs-NgxbGzu"
      }
    },
    {
      "cell_type": "code",
      "source": [
        "is_sunny = False\n",
        "is_warm = True\n",
        "if is_sunny or is_warm:\n",
        "    print(\"Es un buen día para salir.\")\n"
      ],
      "metadata": {
        "colab": {
          "base_uri": "https://localhost:8080/"
        },
        "id": "aF1PEldof_b_",
        "outputId": "a6052395-e5db-428b-c7f9-656bc314f6c3"
      },
      "execution_count": null,
      "outputs": [
        {
          "output_type": "stream",
          "name": "stdout",
          "text": [
            "Es un buen día para salir.\n"
          ]
        }
      ]
    },
    {
      "cell_type": "markdown",
      "source": [
        "#pass\n",
        "**Definición:** Le indica al programa que ignore esa condición y continúe ejecutando el programa como de costumbre."
      ],
      "metadata": {
        "id": "Jh55E1v8bHM5"
      }
    },
    {
      "cell_type": "code",
      "source": [
        "def funcion_vacia():\n",
        "    pass\n"
      ],
      "metadata": {
        "id": "O3gUyb20f_1F"
      },
      "execution_count": null,
      "outputs": []
    },
    {
      "cell_type": "markdown",
      "source": [
        "#raise\n",
        "**Definición:** Se usa para indicar que se ha producido un error o una condición excepcional."
      ],
      "metadata": {
        "id": "TcaFMBC1bHl_"
      }
    },
    {
      "cell_type": "code",
      "source": [
        "def dividir(x, y):\n",
        "    if y == 0:\n",
        "        raise ValueError(\"No se puede dividir por cero.\")"
      ],
      "metadata": {
        "id": "3mijH5oEgAN-"
      },
      "execution_count": null,
      "outputs": []
    },
    {
      "cell_type": "markdown",
      "source": [
        "#return\n",
        "**Definición:** Indica el final de la función y continúa la ejecución del programa tras la llamada a la función."
      ],
      "metadata": {
        "id": "hxszjfdCbH8y"
      }
    },
    {
      "cell_type": "code",
      "source": [
        "def dividir(x, y):\n",
        "    if y == 0:\n",
        "        raise ValueError(\"No se puede dividir por cero.\")\n",
        "    return x / y\n"
      ],
      "metadata": {
        "id": "-TlmHeJzgBIn"
      },
      "execution_count": null,
      "outputs": []
    },
    {
      "cell_type": "markdown",
      "source": [
        "#try\n",
        "**Definición:** Le permite probar un bloque de código en busca de errores."
      ],
      "metadata": {
        "id": "qgWyk9_IbIyv"
      }
    },
    {
      "cell_type": "code",
      "source": [
        "try:\n",
        "    x = int(\"Futbol\")\n",
        "except ValueError:\n",
        "    print(\"No se puede convertir 'Futbol' a entero.\")\n"
      ],
      "metadata": {
        "colab": {
          "base_uri": "https://localhost:8080/"
        },
        "id": "5echRBzQgBll",
        "outputId": "87607226-67e1-41ab-c0f5-f23c3e084e81"
      },
      "execution_count": null,
      "outputs": [
        {
          "output_type": "stream",
          "name": "stdout",
          "text": [
            "No se puede convertir 'Futbol' a entero.\n"
          ]
        }
      ]
    },
    {
      "cell_type": "markdown",
      "source": [
        "#while\n",
        "**Definición:** Estructura de control de flujo, concretamente lo que hace es repetir un código mientras dure una determinada condición."
      ],
      "metadata": {
        "id": "Djb8XNmjbIT7"
      }
    },
    {
      "cell_type": "code",
      "source": [
        "i = 8\n",
        "while i < 12:\n",
        "    print(i)\n",
        "    i += 1\n"
      ],
      "metadata": {
        "colab": {
          "base_uri": "https://localhost:8080/"
        },
        "id": "P_KCHGt_gCnY",
        "outputId": "a684175a-4160-4507-c98b-999890f3aafc"
      },
      "execution_count": null,
      "outputs": [
        {
          "output_type": "stream",
          "name": "stdout",
          "text": [
            "8\n",
            "9\n",
            "10\n",
            "11\n"
          ]
        }
      ]
    },
    {
      "cell_type": "markdown",
      "source": [
        "#with\n",
        "**Definición:** Se utiliza para manejar recursos como archivos de manera eficiente y segura. Garantiza que los recursos se liberen automáticamente una vez que se termina de utilizarlos."
      ],
      "metadata": {
        "id": "w8HkvgBnbJI1"
      }
    },
    {
      "cell_type": "code",
      "source": [
        "with open('archivo_temporal.txt', 'w') as archivo:\n",
        "    archivo.write(\"Este es un archivo de prueba creado en el notebook.\")\n",
        "\n",
        "with open('archivo_temporal.txt', 'r') as archivo:\n",
        "    contenido = archivo.read()\n",
        "    print(contenido)\n",
        "\n"
      ],
      "metadata": {
        "colab": {
          "base_uri": "https://localhost:8080/"
        },
        "id": "blltY4FqgC-K",
        "outputId": "5966af71-fa76-45b3-efe0-e8b30fbb3fef"
      },
      "execution_count": null,
      "outputs": [
        {
          "output_type": "stream",
          "name": "stdout",
          "text": [
            "Este es un archivo de prueba creado en el notebook.\n"
          ]
        }
      ]
    },
    {
      "cell_type": "markdown",
      "source": [
        "#yield\n",
        "**Definición:** Se utiliza en las funciones generadoras que son funciones iguales a los iteradores."
      ],
      "metadata": {
        "id": "-N3t_jQgbcZN"
      }
    },
    {
      "cell_type": "code",
      "source": [
        "def generador():\n",
        "    yield 7\n",
        "    yield 10\n",
        "    yield 13\n",
        "\n",
        "for valor in generador():\n",
        "    print(valor)\n"
      ],
      "metadata": {
        "colab": {
          "base_uri": "https://localhost:8080/"
        },
        "id": "p0-4nB4_gEOv",
        "outputId": "6b1b68ed-5652-42f9-8335-a6f3a7e01515"
      },
      "execution_count": null,
      "outputs": [
        {
          "output_type": "stream",
          "name": "stdout",
          "text": [
            "7\n",
            "10\n",
            "13\n"
          ]
        }
      ]
    },
    {
      "cell_type": "markdown",
      "source": [
        "#len\n",
        "**Definición:** Cuenta la cantidad de letras de un string."
      ],
      "metadata": {
        "id": "d7kV8WpYFnD-"
      }
    },
    {
      "cell_type": "code",
      "source": [
        "abs(len('seis'))"
      ],
      "metadata": {
        "id": "i04ZkJRYF1Ev",
        "outputId": "7b8b2cb7-f543-4ae8-8e41-272346bb01f6",
        "colab": {
          "base_uri": "https://localhost:8080/"
        }
      },
      "execution_count": null,
      "outputs": [
        {
          "output_type": "execute_result",
          "data": {
            "text/plain": [
              "4"
            ]
          },
          "metadata": {},
          "execution_count": 40
        }
      ]
    },
    {
      "cell_type": "markdown",
      "source": [
        "#List\n",
        "\n",
        "**Definición:** colección ordenada de elementos que pueden ser del mismo o diferente tipo de dato.\n"
      ],
      "metadata": {
        "id": "oMB0PMi8JBS1"
      }
    },
    {
      "cell_type": "code",
      "source": [
        "mi_lista = [\"manzana\", \"plátano\", \"cereza\"]\n",
        "\n",
        "print(mi_lista)\n",
        "\n",
        "print(mi_lista[0])  # Salida: manzana\n",
        "\n",
        "mi_lista.append(\"naranja\")\n",
        "print(mi_lista)  # Salida: [\"manzana\", \"plátano\", \"cereza\", \"naranja\"]\n",
        "\n",
        "mi_lista.remove(\"plátano\")\n",
        "print(mi_lista)  # Salida: [\"manzana\", \"cereza\", \"naranja\"]\n"
      ],
      "metadata": {
        "colab": {
          "base_uri": "https://localhost:8080/"
        },
        "id": "QDF4tGS-JAl_",
        "outputId": "5fc058b3-72b7-45ce-e86e-a793fd7cc32e"
      },
      "execution_count": 2,
      "outputs": [
        {
          "output_type": "stream",
          "name": "stdout",
          "text": [
            "['manzana', 'plátano', 'cereza']\n",
            "manzana\n",
            "['manzana', 'plátano', 'cereza', 'naranja']\n",
            "['manzana', 'cereza', 'naranja']\n"
          ]
        }
      ]
    }
  ]
}