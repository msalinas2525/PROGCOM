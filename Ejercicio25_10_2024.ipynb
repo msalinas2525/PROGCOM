{
  "nbformat": 4,
  "nbformat_minor": 0,
  "metadata": {
    "colab": {
      "provenance": []
    },
    "kernelspec": {
      "name": "python3",
      "display_name": "Python 3"
    },
    "language_info": {
      "name": "python"
    }
  },
  "cells": [
    {
      "cell_type": "code",
      "execution_count": 1,
      "metadata": {
        "colab": {
          "base_uri": "https://localhost:8080/"
        },
        "id": "o9RZsNIsSUfM",
        "outputId": "ab40e318-6a04-4a74-cf82-511ac309245a"
      },
      "outputs": [
        {
          "output_type": "stream",
          "name": "stdout",
          "text": [
            "Ingrese una palabra: Majo\n",
            "Resultado: Niká\n"
          ]
        }
      ],
      "source": [
        "def mover_vocales(palabra):\n",
        "    vocales = \"aeiouáéíóúAEIOUÁÉÍÓÚ\"\n",
        "    nueva_palabra = \"\"\n",
        "\n",
        "    for letra in palabra:\n",
        "        if letra in vocales:\n",
        "            # Mover vocales normales dos a la derecha\n",
        "            nueva_palabra += mover_derecha(letra, vocales, 2)\n",
        "        elif letra in \"bcdfghjklmnpqrstvwxyzBCDFGHJKLMNPQRSTVWXYZñÑ\":\n",
        "            # Mover consonantes un a la derecha\n",
        "            nueva_palabra += mover_derecha(letra, \"bcdfghjklmnpqrstvwxyzBCDFGHJKLMNPQRSTVWXYZñÑ\", 1)\n",
        "        else:\n",
        "            nueva_palabra += letra  # caracteres que no son letras se mantienen igual\n",
        "\n",
        "    return nueva_palabra\n",
        "\n",
        "def mover_derecha(letra, alfabeto, pasos):\n",
        "    indice = alfabeto.index(letra)\n",
        "    nuevo_indice = (indice + pasos) % len(alfabeto)\n",
        "    return alfabeto[nuevo_indice]\n",
        "\n",
        "def main():\n",
        "    palabra = input(\"Ingrese una palabra: \")\n",
        "    resultado = mover_vocales(palabra)\n",
        "    print(\"Resultado:\", resultado)\n",
        "\n",
        "if __name__ == \"__main__\":\n",
        "    main()\n"
      ]
    }
  ]
}