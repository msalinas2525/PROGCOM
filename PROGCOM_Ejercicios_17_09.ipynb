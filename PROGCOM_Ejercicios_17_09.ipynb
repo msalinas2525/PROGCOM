{
  "nbformat": 4,
  "nbformat_minor": 0,
  "metadata": {
    "colab": {
      "provenance": []
    },
    "kernelspec": {
      "name": "python3",
      "display_name": "Python 3"
    },
    "language_info": {
      "name": "python"
    }
  },
  "cells": [
    {
      "cell_type": "code",
      "execution_count": 10,
      "metadata": {
        "colab": {
          "base_uri": "https://localhost:8080/"
        },
        "id": "MyaIGEtIcgit",
        "outputId": "726bd900-bd4f-4989-deba-fd0a6297c312"
      },
      "outputs": [
        {
          "name": "stdout",
          "output_type": "stream",
          "text": [
            "Digite su nombre: majo\n",
            "Digite su código: 356\n"
          ]
        }
      ],
      "source": [
        "#1. Crear el programa que solicite el nombre y el código de un estudiante y que luego lo imprima, junto con el logo de la institución educativa perteneciente.\n",
        "nombre = input(\"Digite su nombre: \")\n",
        "\n",
        "codigo = input(\"Digite su código: \")\n",
        "\n",
        "logo = \"UNIVERSIDAD AUTÓNOMA DE BUCARAMANGA\"\n"
      ]
    },
    {
      "cell_type": "markdown",
      "source": [
        "![logo unab.png](data:image/png;base64,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)\n"
      ],
      "metadata": {
        "id": "qlsg21KphlgP"
      }
    },
    {
      "cell_type": "code",
      "source": [
        "print(\"\\n\" + logo)\n",
        "print(f\"Nombre del estudiante: {nombre}\")\n",
        "print(f\"Código: {codigo}\")"
      ],
      "metadata": {
        "id": "c8r7YCsZhyqw"
      },
      "execution_count": null,
      "outputs": []
    },
    {
      "cell_type": "code",
      "source": [
        "#2.Diseñe un algoritmo para calcular el volumen de un cono.\n",
        "import math\n",
        "\n",
        "radio = float(input(\"Ingrese el radio de la base del cono: \"))\n",
        "\n",
        "altura = float(input(\"Ingrese la altura del cono: \"))\n",
        "\n",
        "volumen = (1/3) * math.pi * (radio ** 2) * altura\n",
        "\n",
        "print(f\"El volumen del cono es: {volumen:.2f}\")\n"
      ],
      "metadata": {
        "id": "fIcwPRyGcv9E"
      },
      "execution_count": null,
      "outputs": []
    },
    {
      "cell_type": "code",
      "source": [
        "#3.Dado el conjunto de n servidores que apoyen una red de computadores, diseñe un programa que calcule el número total de conexiones entre los servidores que soportan la red.\n",
        "\n",
        "n = int(input(\"Ingrese el número de servidores: \"))\n",
        "\n",
        "numero_de_conexiones = (n * (n - 1)) // 2\n",
        "\n",
        "print(f\"El número total de conexiones entre los servidores es: {numero_de_conexiones}\")\n"
      ],
      "metadata": {
        "id": "ypISMHBpc8Dk"
      },
      "execution_count": null,
      "outputs": []
    },
    {
      "cell_type": "code",
      "source": [
        "#4.Diseñe un algoritmo que lea temperatura en grados centígrados (°C) y la convierta en grados Fahrenheit (°F) y a grados Kelvin (°K).\n",
        "celsius = float(input(\"Ingrese la temperatura en grados Celsius: \"))\n",
        "\n",
        "fahrenheit = (9 / 5) * celsius + 32\n",
        "\n",
        "kelvin = celsius + 273.15\n",
        "\n",
        "print(f\"Temperatura en grados Fahrenheit: {fahrenheit:.2f} °F\")\n",
        "print(f\"Temperatura en grados Kelvin: {kelvin:.2f} °K\")\n"
      ],
      "metadata": {
        "id": "p3fyrYfEdTl0"
      },
      "execution_count": null,
      "outputs": []
    },
    {
      "cell_type": "code",
      "source": [
        "#5. Diseñar el programa de un robot, que le permita contestar a ciertos requerimientos del usuario (se supone que el usuario sólo cuenta con una petición).\n",
        "#Se debe programar los artículos y los precios de los mismos. El robot debe al menos: Dar la bienvenida al cliente e indicar el precio del artículo que seleccionó el usuario.\n",
        "\n",
        "nombres_articulos = [\"Computadora\", \"Teléfono\", \"Auriculares\", \"Teclado\", \"Ratón\"]\n",
        "precios_articulos = [1000.00, 500.00, 50.00, 25.00, 20.00]\n",
        "\n",
        "print(\"¡Bienvenido a nuestra tienda en línea!\")\n",
        "\n",
        "articulo = input(\"Por favor, ingrese el nombre del artículo que desea consultar: \")\n",
        "\n",
        "articulo = articulo.title()\n",
        "\n",
        "if articulo in nombres_articulos:\n",
        "\n",
        "    indice = nombres_articulos.index(articulo)\n",
        "\n",
        "    precio = precios_articulos[indice]\n",
        "\n",
        "    print(f\"El precio del {articulo} es: ${precio:.2f}\")\n",
        "else:\n",
        "\n",
        "    print(\"Lo siento, el artículo no está disponible en nuestro inventario.\")\n"
      ],
      "metadata": {
        "id": "K3CNP0nHh10w"
      },
      "execution_count": null,
      "outputs": []
    },
    {
      "cell_type": "code",
      "source": [
        "#6. Diseñe un programa que le permita calcular la resistencia total Rx. Considere que las n resistencias pueden estar en serie o en paralelo.\n",
        "n = int(input(\"Ingrese el número de resistencias: \"))\n",
        "resistencias = []\n",
        "for i in range(n):\n",
        "  resistencia = float(input(f\"Ingrese el valor de la resistencia {i+1}: \"))\n",
        "  resistencias.append(resistencia)\n",
        "\n",
        "tipo_conexion = input(\"Ingrese el tipo de conexión (serie o paralelo): \").lower()\n",
        "\n",
        "if tipo_conexion == \"serie\":\n",
        "  resistencia_total = sum(resistencias)\n",
        "elif tipo_conexion == \"paralelo\":\n",
        "  resistencia_total = 1 / sum(1 / r for r in resistencias)\n",
        "else:\n",
        "  print(\"Tipo de conexión inválido.\")\n",
        "\n",
        "if tipo_conexion == \"serie\" or tipo_conexion == \"paralelo\":\n",
        "  print(f\"La resistencia total es: {resistencia_total:.2f} ohmios\")"
      ],
      "metadata": {
        "id": "PU0YzWX4i8X_"
      },
      "execution_count": null,
      "outputs": []
    },
    {
      "cell_type": "code",
      "source": [
        "#7.Diseñe un algoritmo que lea temperatura en grados centígrados (°C) y la convierta en grados Fahrenheit (°F) y a grados Kelvin (ºK), siempre y cuando la temperatura dada en grados sea positiva\n",
        "celsius = float(input(\"Ingrese la temperatura en grados Celsius: \"))\n",
        "\n",
        "if celsius > 0:\n",
        "  fahrenheit = (9 / 5) * celsius + 32\n",
        "  kelvin = celsius + 273.15\n",
        "  print(f\"Temperatura en grados Fahrenheit: {fahrenheit:.2f} °F\")\n",
        "  print(f\"Temperatura en grados Kelvin: {kelvin:.2f} °K\")\n",
        "else:\n",
        "  print(\"La temperatura debe ser positiva.\")"
      ],
      "metadata": {
        "id": "OJrlSZp8je0W"
      },
      "execution_count": null,
      "outputs": []
    },
    {
      "cell_type": "code",
      "source": [
        "#8.Dado dos enteros: horas(h) y minutos (m), representativos del tiempo en horas y minutos dado por un reloj de 24 horas, convierta el tiempo dado por el reloj de 24 horas a un reloj que obtenga el tiempo cada 12 horas.\n",
        "h = int(input(\"Ingrese la hora (formato 24 horas): \"))\n",
        "m = int(input(\"Ingrese los minutos: \"))\n",
        "\n",
        "if h == 0:\n",
        "  h = 12\n",
        "  periodo = \"AM\"\n",
        "elif h == 12:\n",
        "  periodo = \"PM\"\n",
        "elif h < 12:\n",
        "  periodo = \"AM\"\n",
        "else:\n",
        "  h -= 12\n",
        "  periodo = \"PM\"\n",
        "\n",
        "print(f\"{h}:{m:02d} {periodo}\")"
      ],
      "metadata": {
        "id": "SkaLsF8RjkWu"
      },
      "execution_count": null,
      "outputs": []
    },
    {
      "cell_type": "code",
      "source": [
        "#9.Crear el programa que solicite el nombre y el código de n estudiantes.\n",
        "# Dependiendo del código, clasifique la carrera del estudiante y que luego lo imprima, junto con el nombre de la institución educativa perteneciente.\n",
        "\n",
        "institucion = \"UNIVERSIDAD AUTÓNOMA DE BUCARAMANGA\"\n",
        "\n",
        "n = int(input(\"Ingrese el número de estudiantes: \"))\n",
        "\n",
        "for _ in range(n):\n",
        "\n",
        "    nombre = input(\"Ingrese el nombre del estudiante: \")\n",
        "\n",
        "    codigo = input(\"Ingrese el código del estudiante (ej. U0001234): \")\n",
        "\n",
        "    codigo_carrera = codigo[1:5]\n",
        "\n",
        "    if codigo_carrera == '0001':\n",
        "        carrera = \"Telecomunicaciones\"\n",
        "    elif codigo_carrera == '0002':\n",
        "        carrera = \"Ing.Financiera\"\n",
        "    elif codigo_carrera == '0003':\n",
        "        carrera = \"Ing.Mecatrónica\"\n",
        "    elif codigo_carrera == '0004':\n",
        "        carrera = \"Ing.Sistemas\"\n",
        "    else:\n",
        "        carrera = \"Desconocida\"\n",
        "\n",
        "    print(f\"\\n{institucion}\")\n",
        "    print(f\"Nombre del estudiante: {nombre}\")\n",
        "    print(f\"Carrera: {carrera}\")\n"
      ],
      "metadata": {
        "colab": {
          "base_uri": "https://localhost:8080/"
        },
        "id": "dV4GxERqjp3H",
        "outputId": "9956e285-4c03-4e51-f009-57c54aadd818"
      },
      "execution_count": 17,
      "outputs": [
        {
          "output_type": "stream",
          "name": "stdout",
          "text": [
            "Ingrese el número de estudiantes: 1\n",
            "Ingrese el nombre del estudiante: majo\n",
            "Ingrese el código del estudiante (ej. U0001234): U00016\n",
            "\n",
            "UNIVERSIDAD AUTÓNOMA DE BUCARAMANGA\n",
            "Nombre del estudiante: majo\n",
            "Carrera: Telecomunicaciones\n"
          ]
        }
      ]
    },
    {
      "cell_type": "code",
      "source": [
        "#10.Diseñe un algoritmo que ejecute las funciones trigonométricas sen(x), cos(x) y tan(x) sujetas a la selección de las opciones asociadas así:\n",
        "#Opción 1 para la función seno, opción 2 para la función coseno y opción 3 para el cálculo de la tangente, siendo el valor de x un argumento de entrada dado en grados.\n",
        "import math\n",
        "\n",
        "x = float(input(\"Ingrese el valor de x en grados: \"))\n",
        "opcion = int(input(\"Seleccione una opción:\\n1. Seno\\n2. Coseno\\n3. Tangente\\n\"))\n",
        "\n",
        "radianes = math.radians(x)\n",
        "\n",
        "if opcion == 1:\n",
        "  resultado = math.sin(radianes)\n",
        "  print(f\"sen({x}) = {resultado:.2f}\")\n",
        "elif opcion == 2:\n",
        "  resultado = math.cos(radianes)\n",
        "  print(f\"cos({x}) = {resultado:.2f}\")\n",
        "elif opcion == 3:\n",
        "  resultado = math.tan(radianes)\n",
        "  print(f\"tan({x}) = {resultado:.2f}\")\n",
        "else:\n",
        "  print(\"Opción inválida.\")"
      ],
      "metadata": {
        "id": "U0m98injkPmF"
      },
      "execution_count": null,
      "outputs": []
    }
  ]
}