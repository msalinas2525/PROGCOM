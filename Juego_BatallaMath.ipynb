{
  "nbformat": 4,
  "nbformat_minor": 0,
  "metadata": {
    "colab": {
      "provenance": []
    },
    "kernelspec": {
      "name": "python3",
      "display_name": "Python 3"
    },
    "language_info": {
      "name": "python"
    }
  },
  "cells": [
    {
      "cell_type": "code",
      "execution_count": 1,
      "metadata": {
        "colab": {
          "base_uri": "https://localhost:8080/"
        },
        "id": "jF9q6eP4qy6Z",
        "outputId": "9bd74542-0de5-4a1c-bf2d-f8c0cb82801d"
      },
      "outputs": [
        {
          "output_type": "stream",
          "name": "stdout",
          "text": [
            "¡Bienvenido a Math Duel! Responde las preguntas lo más rápido posible.\n",
            "Tienes 5 segundos por cada pregunta. ¡Buena suerte!\n",
            "\n",
            "Ronda 1:\n",
            "5 * 9 = ?\n",
            "Tu respuesta: 45\n",
            "¡Correcto!\n",
            "Tiempo empleado: 4.97 segundos\n",
            "\n",
            "Ronda 2:\n",
            "4 - 4 = ?\n",
            "Tu respuesta: 0\n",
            "¡Correcto!\n",
            "Tiempo empleado: 3.28 segundos\n",
            "\n",
            "Ronda 3:\n",
            "10 - 10 = ?\n",
            "Tu respuesta: 0\n",
            "¡Correcto!\n",
            "Tiempo empleado: 1.85 segundos\n",
            "\n",
            "Ronda 4:\n",
            "6 * 6 = ?\n",
            "Tu respuesta: 36\n",
            "¡Correcto!\n",
            "Tiempo empleado: 3.31 segundos\n",
            "\n",
            "Ronda 5:\n",
            "9 + 3 = ?\n",
            "Tu respuesta: 12\n",
            "¡Correcto!\n",
            "Tiempo empleado: 2.64 segundos\n",
            "\n",
            "\n",
            "Juego terminado. Tu puntaje final es: 5/5\n"
          ]
        }
      ],
      "source": [
        "import random\n",
        "import time\n",
        "\n",
        "# Función para generar una pregunta aleatoria\n",
        "def generar_pregunta():\n",
        "    num1 = random.randint(1, 10)\n",
        "    num2 = random.randint(1, 10)\n",
        "    operacion = random.choice([\"+\", \"-\", \"*\"])\n",
        "\n",
        "    if operacion == \"+\":\n",
        "        respuesta_correcta = num1 + num2\n",
        "    elif operacion == \"-\":\n",
        "        respuesta_correcta = num1 - num2\n",
        "    else:\n",
        "        respuesta_correcta = num1 * num2\n",
        "\n",
        "    pregunta = f\"{num1} {operacion} {num2} = ?\"\n",
        "    return pregunta, respuesta_correcta\n",
        "\n",
        "# Función principal del juego\n",
        "def juego_math_duel():\n",
        "    puntaje = 0\n",
        "    tiempo_limite = 5  # segundos por pregunta\n",
        "    rondas = 5  # número de preguntas\n",
        "\n",
        "    print(\"¡Bienvenido a Batalla Matemática! Responde las preguntas lo más rápido posible.\")\n",
        "    print(f\"Tienes {tiempo_limite} segundos por cada pregunta. ¡Buena suerte!\\n\")\n",
        "\n",
        "    for ronda in range(1, rondas + 1):\n",
        "        print(f\"Ronda {ronda}:\")\n",
        "        pregunta, respuesta_correcta = generar_pregunta()\n",
        "        print(pregunta)\n",
        "\n",
        "        inicio_tiempo = time.time()\n",
        "        try:\n",
        "            respuesta_jugador = int(input(\"Tu respuesta: \"))\n",
        "        except ValueError:\n",
        "            print(\"Respuesta inválida. Recuerda ingresar un número.\")\n",
        "            continue\n",
        "\n",
        "        tiempo_respuesta = time.time() - inicio_tiempo\n",
        "\n",
        "        if tiempo_respuesta > tiempo_limite:\n",
        "            print(\"¡Se acabó el tiempo! Perdiste esta ronda.\")\n",
        "            break\n",
        "        elif respuesta_jugador == respuesta_correcta:\n",
        "            print(\"¡Correcto!\")\n",
        "            puntaje += 1\n",
        "        else:\n",
        "            print(f\"¡Incorrecto! La respuesta correcta era {respuesta_correcta}.\")\n",
        "            break\n",
        "\n",
        "        print(f\"Tiempo empleado: {tiempo_respuesta:.2f} segundos\\n\")\n",
        "\n",
        "    print(f\"\\nJuego terminado. Tu puntaje final es: {puntaje}/{rondas}\")\n",
        "\n",
        "# Ejecutar el juego\n",
        "juego_math_duel()\n"
      ]
    }
  ]
}