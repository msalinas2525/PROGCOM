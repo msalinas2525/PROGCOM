{
  "nbformat": 4,
  "nbformat_minor": 0,
  "metadata": {
    "colab": {
      "provenance": []
    },
    "kernelspec": {
      "name": "python3",
      "display_name": "Python 3"
    },
    "language_info": {
      "name": "python"
    }
  },
  "cells": [
    {
      "cell_type": "markdown",
      "source": [
        "#Estructuras de selección\n",
        "\n",
        "\n",
        "1.   Si - sino: if - else\n",
        "2. Operador terniario\n",
        "3. Estructura switch\n",
        "  - if /elif /else\n",
        "  - match - case\n",
        "\n"
      ],
      "metadata": {
        "id": "kDa0wtefDbfM"
      }
    },
    {
      "cell_type": "code",
      "execution_count": 1,
      "metadata": {
        "colab": {
          "base_uri": "https://localhost:8080/"
        },
        "id": "XECHLShTDXEX",
        "outputId": "bc92ba93-602f-4079-bbc3-bd72cd782426"
      },
      "outputs": [
        {
          "output_type": "stream",
          "name": "stdout",
          "text": [
            "Deseas aprender a programar?SÍ\n",
            "Reconsidéralo\n"
          ]
        }
      ],
      "source": [
        "#Las dos variables no eran iguales (Respuesta - respuesta)\n",
        "#Las variables se escriben en minúscula\n",
        "# if y else van en minúscula\n",
        "respuesta=input(\"Deseas aprender a programar?\").capitalize()\n",
        "if respuesta==\"Si\":\n",
        "  #Estamos dentro del si\n",
        "  print(\"Empieza a hacer ejercicios\")\n",
        "else:\n",
        "  #Estamos dentro del sino\n",
        "  print(\"Reconsidéralo\")\n"
      ]
    },
    {
      "cell_type": "markdown",
      "source": [
        "Ejemplos:\n",
        "1. Dividir dos números siempre y cuando el denominador no sea 0\n",
        "2. Definir si un número es mayor que 5 y menor a 15.\n",
        "3. Definir si un número es mayor que n o menor e igual que m.\n",
        "4. Definir si una letra es m o no\n",
        "5. Verificar si un número es par o impar.\n",
        "6. Decrementa en 1 una unidad, si x es mayor que 5"
      ],
      "metadata": {
        "id": "ehFpcBt0GINI"
      }
    },
    {
      "cell_type": "code",
      "source": [
        "#Ejercicio 3: Definir si un número es mayor que n y menor o igual que m\n",
        "n=int(input(\"Ingrese un número: \"))\n",
        "m=int(input(\"Ingrese otro número: \"))"
      ],
      "metadata": {
        "colab": {
          "base_uri": "https://localhost:8080/"
        },
        "id": "BYwkQkbOH95o",
        "outputId": "c124cb09-09dc-4db6-991b-e1302b37a1c2"
      },
      "execution_count": 8,
      "outputs": [
        {
          "name": "stdout",
          "output_type": "stream",
          "text": [
            "Ingrese un número: 5\n",
            "Ingrese otro número: 8\n"
          ]
        }
      ]
    },
    {
      "cell_type": "code",
      "source": [
        "x=int(input(\"Ingrese otro número\"))\n",
        "if x>n and x<=m:\n",
        "  print(f\"El número {x} es mayor que {n} y menor o igual que {m}\")\n",
        "else:\n",
        "  print(f\"El número {x} no es mayor que {n} y menor o igual que {m}\")"
      ],
      "metadata": {
        "colab": {
          "base_uri": "https://localhost:8080/"
        },
        "id": "Ehvl-_jIFA2C",
        "outputId": "5cc55290-20e5-4da0-bf6c-f5875748fccb"
      },
      "execution_count": 7,
      "outputs": [
        {
          "output_type": "stream",
          "name": "stdout",
          "text": [
            "El número 6 es mayor que 5 y menor o igual que 8\n"
          ]
        }
      ]
    },
    {
      "cell_type": "code",
      "source": [
        "x=int(input(\"Ingrese otro número:\"))\n",
        "if x>n and x<=m:\n",
        "  print(f\"El número {x} es mayor que {n} y menor o igual que {m}\")\n",
        "elif x>n and x>m:\n",
        "  print(f\"El número {x} es mayor que {n} pero no es menor o igual que {m}\")\n",
        "elif x<n and x<=m:\n",
        "  print(f\"El número {x} no es mayor que {n} pero es menor o igual que {m}\")"
      ],
      "metadata": {
        "colab": {
          "base_uri": "https://localhost:8080/"
        },
        "id": "GXyIXZawMezN",
        "outputId": "1e16b6f2-e8df-4258-c906-5a4f2f028a26"
      },
      "execution_count": 12,
      "outputs": [
        {
          "output_type": "stream",
          "name": "stdout",
          "text": [
            "Ingrese otro número:8\n",
            "El número 8 es mayor que 5 y menor o igual que 8\n"
          ]
        }
      ]
    },
    {
      "cell_type": "code",
      "source": [
        "x=int(input(\"Ingrese otro número\"))\n",
        "if x>n and x<=m:\n",
        "  print(f\"El número {x} es mayor que {n} y menor o igual que {m}\")\n",
        "else:\n",
        "  if x>n: print(f\"El número {x} es mayor que {n} pero no es menor o igual que {m}\")\n",
        "  else: print(f\"El número {x} no es mayor que {n} pero es menor o igual que {m}\")"
      ],
      "metadata": {
        "id": "JoXUu7CeNdP7"
      },
      "execution_count": null,
      "outputs": []
    },
    {
      "cell_type": "code",
      "source": [
        "#4. Definir si una letra es m o no. Modo novato\n",
        "letra=input(\"Ingrese una letra: \")\n",
        "if letra==\"m\" or letra==\"M\":\n",
        "  print(\"Ingresaste una m\")\n",
        "else: print(\"No ingresaste una m\")"
      ],
      "metadata": {
        "colab": {
          "base_uri": "https://localhost:8080/"
        },
        "id": "i5ilsPdROgXb",
        "outputId": "c0ab173c-a61a-47f3-a740-198916c0efc9"
      },
      "execution_count": 14,
      "outputs": [
        {
          "output_type": "stream",
          "name": "stdout",
          "text": [
            "Ingrese una letra: m\n",
            "Ingresaste una m\n"
          ]
        }
      ]
    },
    {
      "cell_type": "code",
      "source": [
        "#4. Definir si una letra es m o no. Modo Professional\n",
        "letra=input(\"Ingrese una letra: \").lower()\n",
        "if letra==\"m\":\n",
        "  print(\"Ingresaste una m\")\n",
        "else: print(\"No ingresaste una m\")"
      ],
      "metadata": {
        "id": "i5Sy_1uLPQlh"
      },
      "execution_count": null,
      "outputs": []
    },
    {
      "cell_type": "code",
      "source": [
        "#Restar en 1 una variable si es menor que 5\n",
        "numero=int(input(\"Ingrese un número: \"))\n",
        "if numero<5: print(f\"El nuevo número es {numero-1}\")\n",
        "else: print(\"Como el número no es menor que 5, se mantiene.\")"
      ],
      "metadata": {
        "colab": {
          "base_uri": "https://localhost:8080/"
        },
        "id": "Z3ijPMWAPv0h",
        "outputId": "893fe811-2a76-4f58-80f6-ff915d6ca25e"
      },
      "execution_count": 17,
      "outputs": [
        {
          "output_type": "stream",
          "name": "stdout",
          "text": [
            "Ingrese un número: 10\n",
            "Como el número no es menor que 5, se mantiene.\n"
          ]
        }
      ]
    }
  ]
}