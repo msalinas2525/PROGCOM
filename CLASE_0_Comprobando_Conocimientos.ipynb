{
  "cells": [
    {
      "cell_type": "markdown",
      "metadata": {
        "id": "WCWIhsM_FTIA"
      },
      "source": [
        "#Prueba de evaluación de conocimientos"
      ]
    },
    {
      "cell_type": "markdown",
      "metadata": {
        "id": "zAmV6etKFvGY"
      },
      "source": [
        "##Tipo de datos\n",
        "1. Numérico\n",
        "- Entero interger - int\n",
        "- Decimal: float\n",
        "\n",
        "2. Alfanumérco/Cadena de caracteres (String - str)\n",
        "- Lógico: Boolean - Bool\n",
        "- Lista: list[]\n",
        "- Diccionario: dict {}\n",
        "\n",
        "Para saber qué tipo de datos estamos manipulando se usa la función type()"
      ]
    },
    {
      "cell_type": "code",
      "execution_count": null,
      "metadata": {
        "colab": {
          "base_uri": "https://localhost:8080/"
        },
        "id": "crtJcWGhFKss",
        "outputId": "5bb2c824-ab1d-4c4a-c678-2be876af8d1d"
      },
      "outputs": [
        {
          "data": {
            "text/plain": [
              "17"
            ]
          },
          "execution_count": 1,
          "metadata": {},
          "output_type": "execute_result"
        }
      ],
      "source": [
        "5+3*4"
      ]
    },
    {
      "cell_type": "code",
      "execution_count": null,
      "metadata": {
        "colab": {
          "base_uri": "https://localhost:8080/"
        },
        "id": "XuH7-K2DHZzF",
        "outputId": "01ad13b1-aa0d-4266-8830-f5280934f024"
      },
      "outputs": [
        {
          "data": {
            "text/plain": [
              "int"
            ]
          },
          "execution_count": 2,
          "metadata": {},
          "output_type": "execute_result"
        }
      ],
      "source": [
        "type(5+3*4)"
      ]
    },
    {
      "cell_type": "code",
      "execution_count": null,
      "metadata": {
        "colab": {
          "base_uri": "https://localhost:8080/"
        },
        "id": "28i9h55AHg4t",
        "outputId": "0e89c227-f02b-4a24-9b10-4d8610685d14"
      },
      "outputs": [
        {
          "name": "stdout",
          "output_type": "stream",
          "text": [
            "5+3*4=17 y da como resultado un valor de tipo <class 'int'>\n"
          ]
        }
      ],
      "source": [
        "print(f\"5+3*4={5+3*4} y da como resultado un valor de tipo {type(5+3*4)}\")"
      ]
    },
    {
      "cell_type": "code",
      "execution_count": null,
      "metadata": {
        "colab": {
          "base_uri": "https://localhost:8080/",
          "height": 36
        },
        "id": "cEGqUT5JIEjd",
        "outputId": "9e35a1da-801c-442a-80b7-3b29e25499a6"
      },
      "outputs": [
        {
          "data": {
            "application/vnd.google.colaboratory.intrinsic+json": {
              "type": "string"
            },
            "text/plain": [
              "'533'"
            ]
          },
          "execution_count": 3,
          "metadata": {},
          "output_type": "execute_result"
        }
      ],
      "source": [
        "#Cuando se usa + en sstrings, sucede la concatenación\n",
        "\"5\"+\"3\"*2"
      ]
    },
    {
      "cell_type": "code",
      "execution_count": null,
      "metadata": {
        "colab": {
          "base_uri": "https://localhost:8080/"
        },
        "id": "m2r-Pyg2JCWe",
        "outputId": "91b9a8d2-cf86-49fb-d930-6078fd5905c6"
      },
      "outputs": [
        {
          "data": {
            "text/plain": [
              "False"
            ]
          },
          "execution_count": 5,
          "metadata": {},
          "output_type": "execute_result"
        }
      ],
      "source": [
        "#= es asignación. == es comparación\n",
        "2**11 ==1000"
      ]
    },
    {
      "cell_type": "markdown",
      "metadata": {
        "id": "L-UnPJGgJXc8"
      },
      "source": [
        "##Operaciones lógicas\n",
        "1. Disyunción (o): Una proposición es verdadera, si al menos una de ellas lo es. En python se puede enunciar con la palabra  **or** o con **||**.\n",
        "Ejemplo: V OR V da V, V OR F da F.\n",
        "\n",
        "2. Conjunción (y): Una preposición es verdadera, si y solo si, ambas preposiciones son verdaderas. En python, se utiliza la palabra **and** o **&&**  para su uso.\n",
        "Ejemplo: F and F da F; F and V da F; V and F da F ; V and V da V.\n",
        "\n",
        "3. Negación (no): Niega el valor de verdad de una proposición. Si el valor de verdadd es true, se vuelve false. En python se usa la palabra **not** o **~** para denotarla.\n"
      ]
    },
    {
      "cell_type": "code",
      "execution_count": null,
      "metadata": {
        "id": "_qziba0HLfQD"
      },
      "outputs": [],
      "source": [
        "a=2 ** 11 == 1000 or 2 ** 9 == 100"
      ]
    },
    {
      "cell_type": "code",
      "execution_count": null,
      "metadata": {
        "colab": {
          "base_uri": "https://localhost:8080/"
        },
        "id": "iMKED_TVLnWS",
        "outputId": "14a95924-7320-4e2a-b859-f6acb479cd99"
      },
      "outputs": [
        {
          "name": "stdout",
          "output_type": "stream",
          "text": [
            "El valor de la expresión a=2 ** 11 == 1000 or 2 ** 9 == 100 es False <class 'bool'>\n"
          ]
        }
      ],
      "source": [
        "print(f\"El valor de la expresión a=2 ** 11 == 1000 or 2 ** 9 == 100 es {a} {type(a)}\")"
      ]
    },
    {
      "cell_type": "code",
      "execution_count": null,
      "metadata": {
        "id": "tmMRPPbmNAz5"
      },
      "outputs": [],
      "source": [
        "#Colocar un tipo de dato antes del dato, se usa para transformar el dato dentro del paréntesis\n",
        "#print(f\"int('cincuenta')\" -- no existe) tarea como imprimir un error en python\n",
        "#Hay 3 errores, con cualquiera de las 3\n",
        "\n",
        "\n",
        "\n",
        "\n"
      ]
    },
    {
      "cell_type": "code",
      "execution_count": null,
      "metadata": {
        "colab": {
          "base_uri": "https://localhost:8080/"
        },
        "id": "Rrk2SUbtOhvQ",
        "outputId": "d53c2c8f-4532-47de-d8a3-3adfb28913bc"
      },
      "outputs": [
        {
          "data": {
            "text/plain": [
              "50"
            ]
          },
          "execution_count": 25,
          "metadata": {},
          "output_type": "execute_result"
        }
      ],
      "source": [
        "int(\"50\")"
      ]
    },
    {
      "cell_type": "code",
      "execution_count": null,
      "metadata": {
        "colab": {
          "base_uri": "https://localhost:8080/",
          "height": 36
        },
        "id": "1p1J-JlUN9nI",
        "outputId": "ec6533bc-801e-42c6-817b-cd4d2eba8d4b"
      },
      "outputs": [
        {
          "data": {
            "application/vnd.google.colaboratory.intrinsic+json": {
              "type": "string"
            },
            "text/plain": [
              "'50'"
            ]
          },
          "execution_count": 22,
          "metadata": {},
          "output_type": "execute_result"
        }
      ],
      "source": [
        "str(\"50\")"
      ]
    },
    {
      "cell_type": "code",
      "execution_count": null,
      "metadata": {
        "id": "E2bhcaTuOk7R"
      },
      "outputs": [],
      "source": [
        "#Siempre que halla una división, así sea entera, el resultado será decimal\n",
        "b= 16/16 + 384/24"
      ]
    },
    {
      "cell_type": "code",
      "execution_count": null,
      "metadata": {
        "colab": {
          "base_uri": "https://localhost:8080/"
        },
        "id": "4y9iP3MdOyJo",
        "outputId": "e1bbc607-38be-424a-d10e-365215177360"
      },
      "outputs": [
        {
          "name": "stdout",
          "output_type": "stream",
          "text": [
            "El valor de la expresión b=16/16 + 384/24 es 17.0 <class 'float'>\n"
          ]
        }
      ],
      "source": [
        "print(f\"El valor de la expresión b=16/16 + 384/24 es {b} {type(b)}\")"
      ]
    },
    {
      "cell_type": "code",
      "execution_count": null,
      "metadata": {
        "colab": {
          "base_uri": "https://localhost:8080/"
        },
        "id": "IOYDxDb9PTmw",
        "outputId": "a135ca72-d94e-4f38-d37e-f5685b854d83"
      },
      "outputs": [
        {
          "data": {
            "text/plain": [
              "600"
            ]
          },
          "execution_count": 32,
          "metadata": {},
          "output_type": "execute_result"
        }
      ],
      "source": [
        "# % es el módulo de la operación.\n",
        "600 + 18%2"
      ]
    },
    {
      "cell_type": "code",
      "execution_count": null,
      "metadata": {
        "id": "oNFBBfYyQivf"
      },
      "outputs": [],
      "source": [
        "d= 0 < (4096 % 10) < 6"
      ]
    },
    {
      "cell_type": "code",
      "execution_count": null,
      "metadata": {
        "colab": {
          "base_uri": "https://localhost:8080/"
        },
        "id": "R7th857hRUMm",
        "outputId": "e71a909e-d1ba-44cb-9f83-29586915a754"
      },
      "outputs": [
        {
          "name": "stdout",
          "output_type": "stream",
          "text": [
            "El valor de la expresión d= 0 < (4096 % 10) < 6 es False <class 'bool'>\n"
          ]
        }
      ],
      "source": [
        "print(f\"El valor de la expresión d= 0 < (4096 % 10) < 6 es {d} {type(d)}\")"
      ]
    },
    {
      "cell_type": "code",
      "execution_count": null,
      "metadata": {
        "id": "qlmEZHZ-QuQm"
      },
      "outputs": [],
      "source": [
        "c= 'Max' + 'Min'"
      ]
    },
    {
      "cell_type": "code",
      "execution_count": null,
      "metadata": {
        "colab": {
          "base_uri": "https://localhost:8080/"
        },
        "id": "n3PZi1-nRDIe",
        "outputId": "86b3fd47-b7de-4031-c8a8-b6a826e11dc7"
      },
      "outputs": [
        {
          "name": "stdout",
          "output_type": "stream",
          "text": [
            "El valor de la expresión 'Max' + 'Min' es MaxMin <class 'str'>\n"
          ]
        }
      ],
      "source": [
        "print(f\"El valor de la expresión 'Max' + 'Min' es {c} {type(c)}\")"
      ]
    },
    {
      "cell_type": "code",
      "execution_count": null,
      "metadata": {
        "id": "PZhhpYe2SB-1"
      },
      "outputs": [],
      "source": [
        "#ABC() es una función no definida\n",
        "#ABC() * DEF()"
      ]
    },
    {
      "cell_type": "code",
      "execution_count": null,
      "metadata": {
        "id": "GJJszFMDTG-1"
      },
      "outputs": [],
      "source": [
        "#float(-int(\"7\") + int ('90)) -- El error esta en las comillas de 90"
      ]
    },
    {
      "cell_type": "markdown",
      "metadata": {
        "id": "Ryl5R1bpTpOk"
      },
      "source": [
        "abs(len('seis') - len('tres'))\n",
        "\n",
        "1. abs = valor absoluto\n",
        "2. len= cuenta la cantidad de letras de un string\n",
        "- len('seis')=4\n",
        "- len('tres')=4\n"
      ]
    },
    {
      "cell_type": "code",
      "execution_count": null,
      "metadata": {
        "colab": {
          "base_uri": "https://localhost:8080/"
        },
        "id": "2POKbk0jURX8",
        "outputId": "3a15dde2-d5bf-4549-f0e4-1a50317c789f"
      },
      "outputs": [
        {
          "data": {
            "text/plain": [
              "0"
            ]
          },
          "execution_count": 49,
          "metadata": {},
          "output_type": "execute_result"
        }
      ],
      "source": [
        "abs(len('seis') - len('tres'))"
      ]
    },
    {
      "cell_type": "code",
      "execution_count": null,
      "metadata": {
        "colab": {
          "base_uri": "https://localhost:8080/"
        },
        "id": "EEGqVSXEUtjj",
        "outputId": "28689b8e-89b1-4698-ea1b-9a45aae78f12"
      },
      "outputs": [
        {
          "data": {
            "text/plain": [
              "True"
            ]
          },
          "execution_count": 52,
          "metadata": {},
          "output_type": "execute_result"
        }
      ],
      "source": [
        "#Todos los números, a excepción del cero, dan true al convertirlos en booleanos\n",
        "bool(1210) or bool(-3465)"
      ]
    },
    {
      "cell_type": "code",
      "execution_count": null,
      "metadata": {
        "colab": {
          "base_uri": "https://localhost:8080/"
        },
        "id": "ZdjHHBhNV-qa",
        "outputId": "4761c365-80ed-4514-fa34-cf01d7a7369f"
      },
      "outputs": [
        {
          "data": {
            "text/plain": [
              "296.0"
            ]
          },
          "execution_count": 53,
          "metadata": {},
          "output_type": "execute_result"
        }
      ],
      "source": [
        "int('8'*3) / 3"
      ]
    },
    {
      "cell_type": "code",
      "execution_count": null,
      "metadata": {
        "colab": {
          "base_uri": "https://localhost:8080/",
          "height": 36
        },
        "id": "m9N_Vy3wWMPK",
        "outputId": "b1ca7a1b-833f-4c5c-94be-4dcb3004f280"
      },
      "outputs": [
        {
          "data": {
            "application/vnd.google.colaboratory.intrinsic+json": {
              "type": "string"
            },
            "text/plain": [
              "'296.0'"
            ]
          },
          "execution_count": 54,
          "metadata": {},
          "output_type": "execute_result"
        }
      ],
      "source": [
        "str(296.0)"
      ]
    },
    {
      "cell_type": "code",
      "execution_count": null,
      "metadata": {
        "colab": {
          "background_save": true
        },
        "id": "OY9CU_MvWS75"
      },
      "outputs": [],
      "source": [
        "#Todos los strings son listas, por ende, podemos conocer la posición de cada uno de sus elementos.\n",
        "#En python se empieza contando desde 0\n",
        "\n",
        "raise ValueError (float(str(int('8' * 3)/3)[3]))\n",
        "\n",
        "\n",
        "print('This is an error message', float(str(int('8' * 3)/3)[3]))\n"
      ]
    }
  ],
  "metadata": {
    "colab": {
      "provenance": []
    },
    "kernelspec": {
      "display_name": "Python 3",
      "name": "python3"
    },
    "language_info": {
      "name": "python"
    }
  },
  "nbformat": 4,
  "nbformat_minor": 0
}